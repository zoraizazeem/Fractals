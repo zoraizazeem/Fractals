{
 "cells": [
  {
   "cell_type": "markdown",
   "metadata": {},
   "source": [
    "### Regression code"
   ]
  },
  {
   "cell_type": "code",
   "execution_count": 42,
   "metadata": {},
   "outputs": [],
   "source": [
    "import scipy.misc\n",
    "import numpy as np\n",
    "from sklearn.linear_model import LinearRegression\n",
    "import cv2\n",
    "import matplotlib.pyplot as plt\n",
    "from PIL import Image\n",
    "import csv\n",
    "from tqdm import tqdm\n",
    "import matplotlib.pyplot as plt\n",
    "from matplotlib.pyplot import figure\n",
    "from matplotlib import pyplot, transforms\n",
    "import math"
   ]
  },
  {
   "cell_type": "code",
   "execution_count": 3,
   "metadata": {
    "scrolled": true
   },
   "outputs": [],
   "source": [
    "def linreg(x1,y1):\n",
    "    model = LinearRegression()\n",
    "    x1 = x1.reshape(-1, 1)\n",
    "    y1 = y1.reshape(-1, 1)\n",
    "    model.fit(x1, y1)\n",
    "    print(f\"intercept: {model.intercept_}\")\n",
    "    print(f\"slope: {model.coef_}\")\n",
    "    plt.scatter(x1, y1,color='g')\n",
    "    plt.plot(x1, model.predict(x1),color='k')"
   ]
  },
  {
   "cell_type": "code",
   "execution_count": 18,
   "metadata": {
    "scrolled": true
   },
   "outputs": [],
   "source": [
    "\n",
    "def fractal_dimension(Z, threshold=0.9):\n",
    "\n",
    "    # Only for 2d image\n",
    "    #print((Z.shape))\n",
    "    assert(len(Z.shape) == 2)\n",
    "\n",
    "    \n",
    "    def boxcount(Z, k):\n",
    "        S = np.add.reduceat(\n",
    "            np.add.reduceat(Z, np.arange(0, Z.shape[0], k), axis=0),\n",
    "                               np.arange(0, Z.shape[1], k), axis=1)\n",
    "\n",
    "        # We count non-empty (0) and non-full boxes (k*k)\n",
    "        return len(np.where((S > 0) & (S < k*k))[0])\n",
    "\n",
    "\n",
    "    # Transform Z into a binary array\n",
    "    Z = (Z <= threshold)\n",
    "\n",
    "    # Minimal dimension of image\n",
    "    p = min(Z.shape)\n",
    "    \n",
    "    #print(Z.shape)\n",
    "    # Greatest power of 2 less than or equal to p\n",
    "    n = 2**np.floor(np.log(p)/np.log(2))\n",
    "    #print(n)\n",
    "    \n",
    "    # Extract the exponent\n",
    "    n = int(np.log(n)/np.log(2))\n",
    "    #print(n)\n",
    "    # Build successive box sizes (from 2**n down to 2**1)\n",
    "    sizes = 2**np.arange(n, 1, -1)\n",
    "    #print(sizes)\n",
    "    #print(sizes)\n",
    "    # Actual box counting with decreasing size\n",
    "    counts = []\n",
    "    for size in sizes:\n",
    "        counts.append(boxcount(Z, size))\n",
    "\n",
    "    # Fit the successive log(sizes) with log (counts)\n",
    "    \n",
    "    coeffs = np.polyfit(np.log(sizes), np.log(counts), 1)\n",
    "    x = np.log(sizes)\n",
    "    y = np.log(counts)\n",
    "    \n",
    "    return -coeffs[0], x, y\n",
    "\n",
    "\n",
    "#coeff, x, y  = fractal_dimension(I)\n",
    "#print(\"Minkowski–Bouligand dimension (computed): \", coeff)\n",
    "#print(\"Haussdorf dimension (theoretical):        \", (np.log(3)/np.log(2)))"
   ]
  },
  {
   "cell_type": "code",
   "execution_count": 19,
   "metadata": {},
   "outputs": [],
   "source": [
    "def start(filename, pixel_threshold = 0.9):\n",
    "    I = cv2.imread(filename, cv2.IMREAD_GRAYSCALE)\n",
    "    \n",
    "    # testing inverse of inages\n",
    "    #I = cv2.bitwise_not(I)\n",
    "    #\n",
    "    I = I/256\n",
    "    \n",
    "    \n",
    "    coeff, x, y  = fractal_dimension(I, pixel_threshold)\n",
    "    #print(\"Minkowski–Bouligand dimension (computed): \", coeff)\n",
    "    return coeff, x, y"
   ]
  },
  {
   "cell_type": "code",
   "execution_count": 20,
   "metadata": {
    "scrolled": true
   },
   "outputs": [],
   "source": [
    "def save_csv(xs, ys, filename):\n",
    "    data_dict = []\n",
    "    for i in  range(len(xs)):\n",
    "        xval = str(xs[i])\n",
    "        yval = str(ys[i])\n",
    "        temp = dict(xs = xval, ys = yval)\n",
    "        data_dict.append(temp)\n",
    "\n",
    "    field_names = ['xs', 'ys']\n",
    "    with open(filename, 'w') as csvfile:\n",
    "        writer = csv.DictWriter(csvfile, fieldnames = field_names)\n",
    "        writer.writeheader()\n",
    "        writer.writerows(data_dict)"
   ]
  },
  {
   "cell_type": "code",
   "execution_count": 11,
   "metadata": {
    "scrolled": true
   },
   "outputs": [
    {
     "name": "stdout",
     "output_type": "stream",
     "text": [
      "(2048, 2048)\n",
      "2048.0\n",
      "11\n",
      "[2048 1024  512  256  128   64   32   16    8    4]\n",
      "Minkowski–Bouligand dimension (computed):  1.3097155996788203\n"
     ]
    }
   ],
   "source": [
    "coeff, x, y = start(\"./SelfSimilarFractals/koch.png\")\n",
    "save_csv(x, y, \"./csvs/koch.csv\")"
   ]
  },
  {
   "cell_type": "code",
   "execution_count": 12,
   "metadata": {},
   "outputs": [
    {
     "name": "stdout",
     "output_type": "stream",
     "text": [
      "(949, 1122)\n",
      "512.0\n",
      "9\n",
      "[512 256 128  64  32  16   8   4]\n",
      "Minkowski–Bouligand dimension (computed):  1.5338194415290292\n"
     ]
    }
   ],
   "source": [
    "coeff, x, y = start(\"./SelfSimilarFractals/SierpinskiTriangleHD.png\")\n",
    "save_csv(x, y, \"./csvs/SierpinskiTriangleHD.csv\")"
   ]
  },
  {
   "cell_type": "code",
   "execution_count": 13,
   "metadata": {},
   "outputs": [
    {
     "name": "stdout",
     "output_type": "stream",
     "text": [
      "(2340, 4680)\n",
      "2048.0\n",
      "11\n",
      "[2048 1024  512  256  128   64   32   16    8    4]\n",
      "Minkowski–Bouligand dimension (computed):  1.2718849457162957\n"
     ]
    }
   ],
   "source": [
    "coeff, x, y = start(\"./SelfSimilarFractals/kochCurve.png\")\n",
    "save_csv(x, y, \"./csvs/kochCurve.csv\")"
   ]
  },
  {
   "cell_type": "code",
   "execution_count": 14,
   "metadata": {},
   "outputs": [
    {
     "name": "stdout",
     "output_type": "stream",
     "text": [
      "(561, 474)\n",
      "256.0\n",
      "8\n",
      "[256 128  64  32  16   8   4]\n",
      "Minkowski–Bouligand dimension (computed):  1.4971725125747501\n"
     ]
    }
   ],
   "source": [
    "coeff, x, y = start(\"./SelfSimilarFractals/SierpinskiTriangle50.png\")\n",
    "save_csv(x, y, \"./csvs/SierpinskiTriangle50.csv\")"
   ]
  },
  {
   "cell_type": "markdown",
   "metadata": {},
   "source": [
    "### Thresholds"
   ]
  },
  {
   "cell_type": "code",
   "execution_count": 47,
   "metadata": {
    "code_folding": []
   },
   "outputs": [],
   "source": [
    "\n",
    "def clean(diction):\n",
    "    for key in list(diction.keys()):\n",
    "        if math.isnan(diction[key]):\n",
    "            del diction[key]\n",
    "    return diction\n",
    "            \n",
    "def thresholds(file_dir):\n",
    "    thresholds = np.arange(0,0.9, 0.02).tolist()\n",
    "    thresholds = [round(i,2) for i in thresholds ]\n",
    "    thresholds = thresholds[1:]\n",
    "    thresh_dict = {}\n",
    "    for i in thresholds:\n",
    "        coeff, x, y  = start(file_dir, i)\n",
    "        thresh_dict[i] = coeff\n",
    "    thresh_dict = clean(thresh_dict)\n",
    "    return thresh_dict\n"
   ]
  },
  {
   "cell_type": "code",
   "execution_count": 56,
   "metadata": {},
   "outputs": [
    {
     "name": "stderr",
     "output_type": "stream",
     "text": [
      "/var/folders/jd/r79cklw57_bgyl4gtpf5f85c0000gn/T/ipykernel_20102/881752042.py:42: RuntimeWarning: divide by zero encountered in log\n",
      "  coeffs = np.polyfit(np.log(sizes), np.log(counts), 1)\n",
      "/var/folders/jd/r79cklw57_bgyl4gtpf5f85c0000gn/T/ipykernel_20102/881752042.py:44: RuntimeWarning: divide by zero encountered in log\n",
      "  y = np.log(counts)\n"
     ]
    }
   ],
   "source": [
    "koch_thresh = thresholds(\"./SelfSimilarFractals/koch.png\")\n",
    "koch_50_thresh = thresholds(\"./SelfSimilarFractals/koch10.png\")\n",
    "\n",
    "koch_curve_thresh = thresholds(\"./SelfSimilarFractals/kochCurve.png\")\n",
    "koch_curve_50_thresh = thresholds(\"./SelfSimilarFractals/kochCurve10.png\")\n",
    "\n",
    "gb_thresh = thresholds(\"./SelfSimilarFractals/greatbritain.png\")\n",
    "gb_50_thresh = thresholds(\"./SelfSimilarFractals/greatbritain10.png\")"
   ]
  },
  {
   "cell_type": "code",
   "execution_count": 57,
   "metadata": {
    "scrolled": false
   },
   "outputs": [
    {
     "data": {
      "text/plain": [
       "[<matplotlib.lines.Line2D at 0x7ffb89b99340>]"
      ]
     },
     "execution_count": 57,
     "metadata": {},
     "output_type": "execute_result"
    },
    {
     "data": {
      "image/png": "[encoded data removed]",
      "text/plain": [
       "<Figure size 432x288 with 1 Axes>"
      ]
     },
     "metadata": {
      "needs_background": "light"
     },
     "output_type": "display_data"
    }
   ],
   "source": [
    "plt.plot(koch_thresh.keys(), koch_thresh.values())"
   ]
  },
  {
   "cell_type": "code",
   "execution_count": 58,
   "metadata": {},
   "outputs": [
    {
     "data": {
      "text/plain": [
       "[<matplotlib.lines.Line2D at 0x7ffb7845c250>]"
      ]
     },
     "execution_count": 58,
     "metadata": {},
     "output_type": "execute_result"
    },
    {
     "data": {
      "image/png": "[encoded data removed]",
      "text/plain": [
       "<Figure size 432x288 with 1 Axes>"
      ]
     },
     "metadata": {
      "needs_background": "light"
     },
     "output_type": "display_data"
    }
   ],
   "source": [
    "plt.plot(koch_50_thresh.keys(), koch_50_thresh.values())"
   ]
  },
  {
   "cell_type": "code",
   "execution_count": 59,
   "metadata": {},
   "outputs": [
    {
     "data": {
      "text/plain": [
       "[<matplotlib.lines.Line2D at 0x7ffb784c2160>]"
      ]
     },
     "execution_count": 59,
     "metadata": {},
     "output_type": "execute_result"
    },
    {
     "data": {
      "image/png": "[encoded data removed]",
      "text/plain": [
       "<Figure size 432x288 with 1 Axes>"
      ]
     },
     "metadata": {
      "needs_background": "light"
     },
     "output_type": "display_data"
    }
   ],
   "source": [
    "plt.plot(koch_curve_thresh.keys(), koch_curve_thresh.values())"
   ]
  },
  {
   "cell_type": "code",
   "execution_count": 60,
   "metadata": {},
   "outputs": [
    {
     "data": {
      "text/plain": [
       "[<matplotlib.lines.Line2D at 0x7ffb89c65a30>]"
      ]
     },
     "execution_count": 60,
     "metadata": {},
     "output_type": "execute_result"
    },
    {
     "data": {
      "image/png": "[encoded data removed]",
      "text/plain": [
       "<Figure size 432x288 with 1 Axes>"
      ]
     },
     "metadata": {
      "needs_background": "light"
     },
     "output_type": "display_data"
    }
   ],
   "source": [
    "plt.plot(koch_curve_50_thresh.keys(), koch_curve_50_thresh.values())"
   ]
  },
  {
   "cell_type": "code",
   "execution_count": 61,
   "metadata": {},
   "outputs": [
    {
     "data": {
      "text/plain": [
       "[<matplotlib.lines.Line2D at 0x7ffb5b698640>]"
      ]
     },
     "execution_count": 61,
     "metadata": {},
     "output_type": "execute_result"
    },
    {
     "data": {
      "image/png": "[encoded data removed]",
      "text/plain": [
       "<Figure size 432x288 with 1 Axes>"
      ]
     },
     "metadata": {
      "needs_background": "light"
     },
     "output_type": "display_data"
    }
   ],
   "source": [
    "plt.plot(gb_thresh.keys(), gb_thresh.values())"
   ]
  },
  {
   "cell_type": "code",
   "execution_count": 62,
   "metadata": {},
   "outputs": [
    {
     "data": {
      "text/plain": [
       "[<matplotlib.lines.Line2D at 0x7ffb89d8af40>]"
      ]
     },
     "execution_count": 62,
     "metadata": {},
     "output_type": "execute_result"
    },
    {
     "data": {
      "image/png": "[encoded data removed]",
      "text/plain": [
       "<Figure size 432x288 with 1 Axes>"
      ]
     },
     "metadata": {
      "needs_background": "light"
     },
     "output_type": "display_data"
    }
   ],
   "source": [
    "plt.plot(gb_50_thresh.keys(), gb_50_thresh.values())"
   ]
  },
  {
   "cell_type": "code",
   "execution_count": null,
   "metadata": {},
   "outputs": [],
   "source": []
  },
  {
   "cell_type": "code",
   "execution_count": null,
   "metadata": {},
   "outputs": [],
   "source": []
  },
  {
   "cell_type": "code",
   "execution_count": null,
   "metadata": {},
   "outputs": [],
   "source": []
  },
  {
   "cell_type": "markdown",
   "metadata": {},
   "source": [
    "### Showing Regression Plots of fractals"
   ]
  },
  {
   "cell_type": "code",
   "execution_count": 30,
   "metadata": {},
   "outputs": [
    {
     "name": "stdout",
     "output_type": "stream",
     "text": [
      "intercept: [11.20459123]\n",
      "slope: [[-1.50851977]]\n"
     ]
    },
    {
     "data": {
      "image/png": "[encoded data removed]",
      "text/plain": [
       "<Figure size 432x288 with 1 Axes>"
      ]
     },
     "metadata": {
      "needs_background": "light"
     },
     "output_type": "display_data"
    }
   ],
   "source": [
    "linreg(x, y)"
   ]
  },
  {
   "cell_type": "code",
   "execution_count": 31,
   "metadata": {
    "scrolled": true
   },
   "outputs": [
    {
     "name": "stdout",
     "output_type": "stream",
     "text": [
      "Minkowski–Bouligand dimension (computed):  1.1896829330855272\n"
     ]
    }
   ],
   "source": [
    "coeff, x, y = start(\"./SelfSimilarFractals/greatbritain.png\")\n",
    "save_csv(x, y, \"./csvs/greatbritain.csv\")"
   ]
  },
  {
   "cell_type": "code",
   "execution_count": 11,
   "metadata": {},
   "outputs": [
    {
     "name": "stdout",
     "output_type": "stream",
     "text": [
      "intercept: [8.35180173]\n",
      "slope: [[-1.25006712]]\n"
     ]
    },
    {
     "data": {
      "image/png": "[encoded data removed]",
      "text/plain": [
       "<Figure size 432x288 with 1 Axes>"
      ]
     },
     "metadata": {
      "needs_background": "light"
     },
     "output_type": "display_data"
    }
   ],
   "source": [
    "linreg(x,y)"
   ]
  },
  {
   "cell_type": "code",
   "execution_count": null,
   "metadata": {},
   "outputs": [],
   "source": []
  },
  {
   "cell_type": "code",
   "execution_count": null,
   "metadata": {},
   "outputs": [],
   "source": []
  },
  {
   "cell_type": "code",
   "execution_count": null,
   "metadata": {},
   "outputs": [],
   "source": []
  },
  {
   "cell_type": "markdown",
   "metadata": {},
   "source": [
    "### Union of Different Colours"
   ]
  },
  {
   "cell_type": "code",
   "execution_count": 13,
   "metadata": {},
   "outputs": [],
   "source": [
    "ranges ={'Violet': [(150, 100, 100), (180, 255, 255)],\n",
    " 'Indigo': [(135, 100, 100), (150, 255, 255)],\n",
    " 'Blue': [(90, 100, 100), (135, 255, 255)],\n",
    " 'Green': [(35, 100, 100), (90, 255, 255)],\n",
    " 'Yellow': [(25, 100, 100), (35, 255, 255)],\n",
    " 'Orange': [(10, 100, 100), (25, 255, 255)],\n",
    " 'Red': [(0,100,100),(10,100,100)]}"
   ]
  },
  {
   "cell_type": "code",
   "execution_count": 12,
   "metadata": {},
   "outputs": [],
   "source": [
    "def remove_colour(img, fname, col_min, col_max):\n",
    "    upstate = cv2.imread(img)\n",
    "    upstate_hsv = cv2.cvtColor(upstate, cv2.COLOR_BGR2HSV)\n",
    "\n",
    "    mask_inverse = cv2.inRange(upstate_hsv, col_min, col_max)\n",
    "    mask = mask_inverse #cv2.bitwise_not(mask_inverse)\n",
    "    mask_rgb = cv2.cvtColor(mask, cv2.COLOR_GRAY2RGB)    \n",
    "    masked_upstate = cv2.bitwise_and(upstate, mask_rgb)\n",
    "    \n",
    "    gray = cv2.cvtColor(masked_upstate, cv2.COLOR_BGR2GRAY)\n",
    "\n",
    "    ret, thresh = cv2.threshold(gray, 240, 255, cv2.THRESH_BINARY)\n",
    "\n",
    "    masked_upstate[thresh == 255] = 0\n",
    "    \n",
    "    cv2.imwrite(fname, masked_upstate)\n",
    "    \n",
    "    \n",
    "    "
   ]
  },
  {
   "cell_type": "code",
   "execution_count": 14,
   "metadata": {},
   "outputs": [],
   "source": [
    "\n",
    "def remove_red(img, fname):\n",
    "    image = cv2.imread(img)\n",
    "    result = image.copy()\n",
    "    result = cv2.cvtColor(result, cv2.COLOR_BGR2HSV)\n",
    "    lower1 = np.array([0, 100, 20])\n",
    "    upper1 = np.array([10, 255, 255])\n",
    "    lower2 = np.array([160,100,20])\n",
    "    upper2 = np.array([179,255,255])\n",
    "\n",
    "    lower_mask = cv2.inRange(result, lower1, upper1)\n",
    "    upper_mask = cv2.inRange(result, lower2, upper2)\n",
    "\n",
    "    full_mask = lower_mask + upper_mask;\n",
    "\n",
    "    result = cv2.bitwise_and(result, result, mask=full_mask)\n",
    "    upstate_hsv = cv2.cvtColor(result, cv2.COLOR_BGR2HSV)\n",
    "    mask_rgb =upstate_hsv #cv2.bitwise_not(upstate_hsv)\n",
    "    masked_upstate = cv2.bitwise_and(image, mask_rgb)\n",
    "    \n",
    "    gray = cv2.cvtColor(masked_upstate, cv2.COLOR_BGR2GRAY)\n",
    "\n",
    "    ret, thresh = cv2.threshold(gray, 240, 255, cv2.THRESH_BINARY)\n",
    "\n",
    "    masked_upstate[thresh == 255] = 0\n",
    "    \n",
    "    \n",
    "    cv2.imwrite(fname, masked_upstate)\n"
   ]
  },
  {
   "cell_type": "code",
   "execution_count": 15,
   "metadata": {},
   "outputs": [],
   "source": [
    "def main_run(main_img):\n",
    "    for i in ranges.keys():\n",
    "        if i == \"Red\":\n",
    "            remove_red('./GivenClusters/{}.png'.format(main_img), \"./colours/{}/red.png\".format(main_img))\n",
    "        else:\n",
    "            mini = np.array((ranges[i])[0], np.uint8)\n",
    "            maxi = np.array((ranges[i])[1], np.uint8)\n",
    "            remove_colour('./GivenClusters/{}.png'.format(main_img), \"./colours/{}/without{}.png\".format(main_img, i), mini, maxi)"
   ]
  },
  {
   "cell_type": "code",
   "execution_count": 16,
   "metadata": {},
   "outputs": [],
   "source": [
    "main_run(\"turnerimg\")"
   ]
  },
  {
   "cell_type": "code",
   "execution_count": 17,
   "metadata": {},
   "outputs": [],
   "source": [
    "main_run(\"ALE_a0_eta0_sigmad_n8000\")"
   ]
  },
  {
   "cell_type": "code",
   "execution_count": null,
   "metadata": {},
   "outputs": [],
   "source": []
  },
  {
   "cell_type": "code",
   "execution_count": null,
   "metadata": {},
   "outputs": [],
   "source": []
  },
  {
   "cell_type": "code",
   "execution_count": null,
   "metadata": {},
   "outputs": [],
   "source": []
  },
  {
   "cell_type": "markdown",
   "metadata": {},
   "source": [
    "### Inverting Colours"
   ]
  },
  {
   "cell_type": "code",
   "execution_count": 58,
   "metadata": {},
   "outputs": [
    {
     "data": {
      "text/plain": [
       "<matplotlib.image.AxesImage at 0x7fc0589b0fd0>"
      ]
     },
     "execution_count": 58,
     "metadata": {},
     "output_type": "execute_result"
    },
    {
     "data": {
      "image/png": "[encoded data removed]",
      "text/plain": [
       "<Figure size 432x288 with 1 Axes>"
      ]
     },
     "metadata": {
      "needs_background": "light"
     },
     "output_type": "display_data"
    }
   ],
   "source": [
    "plt.imshow(img)"
   ]
  },
  {
   "cell_type": "code",
   "execution_count": 259,
   "metadata": {
    "scrolled": true
   },
   "outputs": [
    {
     "name": "stdout",
     "output_type": "stream",
     "text": [
      "Minkowski–Bouligand dimension (computed):  1.2839164765304605\n"
     ]
    }
   ],
   "source": [
    "coeff, x1, y1 = start(\"./SelfSimilarFractals/invertedGB_w_trans.jpg\", 0.5)"
   ]
  },
  {
   "cell_type": "code",
   "execution_count": 260,
   "metadata": {},
   "outputs": [
    {
     "name": "stdout",
     "output_type": "stream",
     "text": [
      "Minkowski–Bouligand dimension (computed):  1.2500671175406615\n"
     ]
    }
   ],
   "source": [
    "coeff, x2, y2 = start(\"./SelfSimilarFractals/invertedGB.jpg\", 0.5)"
   ]
  },
  {
   "cell_type": "code",
   "execution_count": null,
   "metadata": {},
   "outputs": [],
   "source": []
  },
  {
   "cell_type": "markdown",
   "metadata": {},
   "source": [
    "### Transalting image and saving it to the directory."
   ]
  },
  {
   "cell_type": "code",
   "execution_count": 19,
   "metadata": {},
   "outputs": [
    {
     "data": {
      "text/plain": [
       "'import threading\\n\\ndef do_something(): \\n    print(\"Doing stuff...\")\\n    # do your stuff\\n    threading.Timer(0.1, do_something).start()\\n\\ndo_something()'"
      ]
     },
     "execution_count": 19,
     "metadata": {},
     "output_type": "execute_result"
    }
   ],
   "source": [
    "import cv2\n",
    "import numpy as np\n",
    "\n",
    "img = cv2.imread(\"./SelfSimilarFractals/GreatBritain.png\")\n",
    "num_rows, num_cols = img.shape[:2]\n",
    "\n",
    "img = cv2.bitwise_not(img)\n",
    "\n",
    "\n",
    "\n",
    "translation_matrix = np.float32([ [1,0,10], [0,1,10] ])\n",
    "img_translation = cv2.warpAffine(img, translation_matrix, (num_cols, num_rows))\n",
    "\n",
    "gray = cv2.cvtColor(img_translation, cv2.COLOR_BGR2GRAY)\n",
    "\n",
    "ret, thresh = cv2.threshold(gray, 240, 255, cv2.THRESH_BINARY)\n",
    "#img_translation[thresh == 0] = 255\n",
    "plt.imshow(img_translation)\n",
    "cv2.imwrite(\"./SelfSimilarFractals/invertedGB_w_trans.jpg\", img_translation)"
   ]
  },
  {
   "cell_type": "code",
   "execution_count": null,
   "metadata": {},
   "outputs": [],
   "source": []
  },
  {
   "cell_type": "code",
   "execution_count": null,
   "metadata": {},
   "outputs": [],
   "source": []
  },
  {
   "cell_type": "code",
   "execution_count": null,
   "metadata": {},
   "outputs": [],
   "source": []
  },
  {
   "cell_type": "code",
   "execution_count": null,
   "metadata": {},
   "outputs": [],
   "source": []
  },
  {
   "cell_type": "markdown",
   "metadata": {},
   "source": [
    "### Turning saved csv files (of clusters) into reproducible plots, \n",
    "## {In BETA developement}"
   ]
  },
  {
   "cell_type": "code",
   "execution_count": 150,
   "metadata": {
    "code_folding": []
   },
   "outputs": [],
   "source": [
    "def get_centers(co_ordinates):\n",
    "    co_ords = []\n",
    "    for i  in co_ordinates:\n",
    "        co_ords.append((((i[0]+i[2])/2), ((i[1]+i[3])/2)))\n",
    "    plt.gca().invert_yaxis()\n",
    "    plt.gca().set_aspect('equal', adjustable='box')\n",
    "    #print(co_ords)\n",
    "    plt.scatter(*zip(*co_ords), s= 100)\n",
    "    #return co_ords"
   ]
  },
  {
   "cell_type": "code",
   "execution_count": 153,
   "metadata": {
    "scrolled": true
   },
   "outputs": [],
   "source": [
    "with open('./ClusterCSV/6.csv', newline='') as f:\n",
    "    reader = csv.reader(f)\n",
    "    data = list(reader)\n",
    "data = data[1:]\n",
    "data = [tuple(int(float(j)) for j in i) for i in data]\n",
    "#data"
   ]
  },
  {
   "cell_type": "code",
   "execution_count": 154,
   "metadata": {},
   "outputs": [
    {
     "data": {
      "image/png": "[encoded data removed]",
      "text/plain": [
       "<Figure size 432x288 with 1 Axes>"
      ]
     },
     "metadata": {
      "needs_background": "light"
     },
     "output_type": "display_data"
    }
   ],
   "source": [
    "get_centers(data)"
   ]
  },
  {
   "cell_type": "code",
   "execution_count": 141,
   "metadata": {},
   "outputs": [],
   "source": [
    "co_ords = [(99.5, 99.5), (99.5, 100.5), (99.5, 99.5), (100.5, 101.5), (101.5, 102.5), (99.5, 100.5), (100.5, 99.5), (100.5, 102.5), (100.5, 103.5), (100.5, 102.5), (100.5, 100.5), (101.5, 99.5), (98.5, 98.5), (102.5, 103.5), (102.5, 100.5), (98.5, 100.5), (97.5, 101.5), (102.5, 104.5), (97.5, 100.5), (102.5, 105.5), (99.5, 104.5), (102.5, 99.5), (98.5, 97.5), (102.5, 105.5), (98.5, 101.5), (102.5, 100.5), (101.5, 98.5), (97.5, 102.5), (99.5, 102.5), (97.5, 96.5), (103.5, 103.5), (96.5, 95.5), (100.5, 104.5), (98.5, 96.5), (103.5, 103.5), (96.5, 96.5), (100.5, 102.5), (101.5, 105.5), (102.5, 97.5), (98.5, 95.5), (102.5, 104.5), (97.5, 95.5), (99.5, 99.5), (103.5, 106.5), (100.5, 98.5), (102.5, 103.5), (102.5, 104.5), (97.5, 96.5), (99.5, 95.5), (102.5, 97.5), (102.5, 102.5), (96.5, 96.5), (97.5, 100.5), (102.5, 99.5), (102.5, 102.5), (102.5, 98.5), (103.5, 96.5), (97.5, 102.5), (102.5, 98.5), (95.5, 97.5), (95.5, 96.5), (99.5, 105.5), (101.5, 104.5), (102.5, 104.5), (97.5, 103.5), (103.5, 96.5), (102.5, 105.5), (96.5, 94.5), (97.5, 95.5), (99.5, 105.5), (104.5, 97.5), (98.5, 96.5), (103.5, 107.5), (104.5, 98.5), (97.5, 95.5), (101.5, 104.5), (95.5, 94.5), (100.5, 97.5), (98.5, 105.5), (105.5, 97.5), (102.5, 108.5), (97.5, 105.5), (96.5, 104.5), (97.5, 94.5), (94.5, 96.5), (101.5, 109.5), (95.5, 95.5), (98.5, 93.5), (103.5, 106.5), (99.5, 92.5), (101.5, 105.5), (97.5, 93.5), (102.5, 107.5), (98.5, 91.5), (95.5, 103.5), (94.5, 95.5), (101.5, 109.5), (101.5, 106.5), (101.5, 108.5), (103.5, 109.5), (93.5, 95.5), (94.5, 104.5), (94.5, 105.5), (95.5, 106.5), (104.5, 110.5)]"
   ]
  },
  {
   "cell_type": "code",
   "execution_count": 146,
   "metadata": {},
   "outputs": [],
   "source": [
    "a = co_ords[-1]"
   ]
  },
  {
   "cell_type": "code",
   "execution_count": 147,
   "metadata": {},
   "outputs": [],
   "source": [
    "b = co_ords[-6]"
   ]
  },
  {
   "cell_type": "code",
   "execution_count": 148,
   "metadata": {},
   "outputs": [
    {
     "data": {
      "text/plain": [
       "2.0"
      ]
     },
     "execution_count": 148,
     "metadata": {},
     "output_type": "execute_result"
    }
   ],
   "source": [
    "sum([(aItem -bItem)**2 for aItem, bItem in zip(a, b)])"
   ]
  },
  {
   "cell_type": "code",
   "execution_count": null,
   "metadata": {},
   "outputs": [],
   "source": []
  }
 ],
 "metadata": {
  "kernelspec": {
   "display_name": "Python 3 (ipykernel)",
   "language": "python",
   "name": "python3"
  },
  "language_info": {
   "codemirror_mode": {
    "name": "ipython",
    "version": 3
   },
   "file_extension": ".py",
   "mimetype": "text/x-python",
   "name": "python",
   "nbconvert_exporter": "python",
   "pygments_lexer": "ipython3",
   "version": "3.9.12"
  }
 },
 "nbformat": 4,
 "nbformat_minor": 4
}
