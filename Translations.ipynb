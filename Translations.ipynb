{
 "cells": [
  {
   "cell_type": "markdown",
   "metadata": {},
   "source": [
    "### Regression code"
   ]
  },
  {
   "cell_type": "code",
   "execution_count": 11,
   "metadata": {},
   "outputs": [],
   "source": [
    "import scipy.misc\n",
    "import numpy as np\n",
    "from sklearn.linear_model import LinearRegression\n",
    "import cv2\n",
    "import matplotlib.pyplot as plt\n",
    "from PIL import Image\n",
    "import csv\n",
    "from tqdm import tqdm\n",
    "import matplotlib.pyplot as plt\n",
    "from matplotlib.pyplot import figure\n",
    "from matplotlib import pyplot, transforms\n",
    "import math"
   ]
  },
  {
   "cell_type": "code",
   "execution_count": 12,
   "metadata": {
    "scrolled": true
   },
   "outputs": [],
   "source": [
    "def linreg(x1,y1):\n",
    "    model = LinearRegression()\n",
    "    x1 = x1.reshape(-1, 1)\n",
    "    y1 = y1.reshape(-1, 1)\n",
    "    model.fit(x1, y1)\n",
    "    print(f\"intercept: {model.intercept_}\")\n",
    "    print(f\"slope: {model.coef_}\")\n",
    "    plt.scatter(x1, y1,color='g')\n",
    "    plt.plot(x1, model.predict(x1),color='k')"
   ]
  },
  {
   "cell_type": "code",
   "execution_count": 13,
   "metadata": {
    "scrolled": true
   },
   "outputs": [],
   "source": [
    "\n",
    "def fractal_dimension(Z, threshold=0.9):\n",
    "\n",
    "    # Only for 2d image\n",
    "    #print((Z.shape))\n",
    "    assert(len(Z.shape) == 2)\n",
    "\n",
    "    \n",
    "    def boxcount(Z, k):\n",
    "        S = np.add.reduceat(\n",
    "            np.add.reduceat(Z, np.arange(0, Z.shape[0], k), axis=0),\n",
    "                               np.arange(0, Z.shape[1], k), axis=1)\n",
    "\n",
    "        # We count non-empty (0) and non-full boxes (k*k)\n",
    "        return len(np.where((S > 0) & (S < k*k))[0])\n",
    "\n",
    "\n",
    "    # Transform Z into a binary array\n",
    "    Z = (Z <= threshold)\n",
    "\n",
    "    # Minimal dimension of image\n",
    "    p = min(Z.shape)\n",
    "    #print(Z.shape)\n",
    "    \n",
    "    #print(Z.shape)\n",
    "    # Greatest power of 2 less than or equal to p\n",
    "    n = 2**np.floor(np.log(p)/np.log(2))\n",
    "    #print(n)\n",
    "    \n",
    "    # Extract the exponent\n",
    "    n = int(np.log(n)/np.log(2))\n",
    "    #print(n)\n",
    "    # Build successive box sizes (from 2**n down to 2**1)\n",
    "    sizes = 2**np.arange(n, 1, -1)\n",
    "    sizes = list(sizes)\n",
    "    \n",
    "    \n",
    "    #print(sizes)\n",
    "    # Actual box counting with decreasing size\n",
    "    counts = []\n",
    "    \n",
    "    ### remove \n",
    "    #sizes.append(1)\n",
    "    #sizes.append(2)\n",
    "    #sizes.append(3)\n",
    "    #sizes.append(5)\n",
    "    \n",
    "    ### remove \n",
    "    sizes = np.array(sizes)\n",
    "    \n",
    "    for size in sizes:\n",
    "        counts.append(boxcount(Z, size))\n",
    "\n",
    "    # Fit the successive log(sizes) with log (counts)\n",
    "\n",
    "    \n",
    "    coeffs = np.polyfit(np.log(sizes), np.log(counts), 1)\n",
    "    x = np.log(sizes)\n",
    "    y = np.log(counts)\n",
    "    \n",
    "    #print(x)\n",
    "    #print(y)\n",
    "    \n",
    "    \n",
    "    \n",
    "    return -coeffs[0], x, y\n",
    "\n",
    "\n",
    "#coeff, x, y  = fractal_dimension(I)\n",
    "#print(\"Minkowski–Bouligand dimension (computed): \", coeff)\n",
    "#print(\"Haussdorf dimension (theoretical):        \", (np.log(3)/np.log(2)))"
   ]
  },
  {
   "cell_type": "code",
   "execution_count": 18,
   "metadata": {},
   "outputs": [],
   "source": [
    "def start(filename, pixel_threshold = 0.9):\n",
    "    I = cv2.imread(filename, cv2.IMREAD_GRAYSCALE)\n",
    "    \n",
    "    # testing inverse of inages\n",
    "    #I = cv2.bitwise_not(I)\n",
    "    #\n",
    "    I = I/256\n",
    "    \n",
    "    \n",
    "    coeff, x, y  = fractal_dimension(I, pixel_threshold)\n",
    "    #print(\"Minkowski–Bouligand dimension (computed): \", coeff)\n",
    "    return coeff, x, y"
   ]
  },
  {
   "cell_type": "code",
   "execution_count": 15,
   "metadata": {
    "scrolled": true
   },
   "outputs": [],
   "source": [
    "def save_csv(xs, ys, filename):\n",
    "    data_dict = []\n",
    "    for i in  range(len(xs)):\n",
    "        xval = str(xs[i])\n",
    "        yval = str(ys[i])\n",
    "        temp = dict(xs = xval, ys = yval)\n",
    "        data_dict.append(temp)\n",
    "\n",
    "    field_names = ['xs', 'ys']\n",
    "    with open(filename, 'w') as csvfile:\n",
    "        writer = csv.DictWriter(csvfile, fieldnames = field_names)\n",
    "        writer.writeheader()\n",
    "        writer.writerows(data_dict)"
   ]
  },
  {
   "cell_type": "code",
   "execution_count": 16,
   "metadata": {},
   "outputs": [
    {
     "name": "stdout",
     "output_type": "stream",
     "text": [
      "Minkowski–Bouligand dimension (computed):  1.5338194415290292\n",
      "intercept: [11.1795691]\n",
      "slope: [[-1.53381944]]\n"
     ]
    },
    {
     "data": {
      "image/png": "[encoded data removed]",
      "text/plain": [
       "<Figure size 432x288 with 1 Axes>"
      ]
     },
     "metadata": {
      "needs_background": "light"
     },
     "output_type": "display_data"
    }
   ],
   "source": [
    "coeff, x, y = start(\"./SelfSimilarFractals/SierpinskiTriangleHD.png\")\n",
    "save_csv(x, y, \"./csvs/SierpinskiTriangleHD.csv\")\n",
    "linreg(x,y)"
   ]
  },
  {
   "cell_type": "code",
   "execution_count": 175,
   "metadata": {},
   "outputs": [
    {
     "name": "stdout",
     "output_type": "stream",
     "text": [
      "Minkowski–Bouligand dimension (computed):  1.238430012010909\n",
      "intercept: [10.56852261]\n",
      "slope: [[-1.23843001]]\n"
     ]
    },
    {
     "data": {
      "image/png": "[encoded data removed]",
      "text/plain": [
       "<Figure size 432x288 with 1 Axes>"
      ]
     },
     "metadata": {
      "needs_background": "light"
     },
     "output_type": "display_data"
    }
   ],
   "source": [
    "coeff, x, y = start(\"./SelfSimilarFractals/kochCurve.png\")\n",
    "save_csv(x, y, \"./csvs/kochCurve.csv\")\n",
    "linreg(x,y)"
   ]
  },
  {
   "cell_type": "code",
   "execution_count": 176,
   "metadata": {},
   "outputs": [
    {
     "name": "stdout",
     "output_type": "stream",
     "text": [
      "Minkowski–Bouligand dimension (computed):  1.400106246748497\n",
      "intercept: [10.47987616]\n",
      "slope: [[-1.40010625]]\n"
     ]
    },
    {
     "data": {
      "image/png": "[encoded data removed]",
      "text/plain": [
       "<Figure size 432x288 with 1 Axes>"
      ]
     },
     "metadata": {
      "needs_background": "light"
     },
     "output_type": "display_data"
    }
   ],
   "source": [
    "coeff, x, y = start(\"./SelfSimilarFractals/minkSausage.png\")\n",
    "save_csv(x, y, \"./csvs/minkSausage.csv\")\n",
    "linreg(x,y)"
   ]
  },
  {
   "cell_type": "code",
   "execution_count": null,
   "metadata": {},
   "outputs": [],
   "source": []
  },
  {
   "cell_type": "code",
   "execution_count": 180,
   "metadata": {},
   "outputs": [
    {
     "name": "stdout",
     "output_type": "stream",
     "text": [
      "Minkowski–Bouligand dimension (computed):  1.4271949258759296\n",
      "intercept: [10.59965301]\n",
      "slope: [[-1.42719493]]\n"
     ]
    },
    {
     "data": {
      "image/png": "[encoded data removed]",
      "text/plain": [
       "<Figure size 432x288 with 1 Axes>"
      ]
     },
     "metadata": {
      "needs_background": "light"
     },
     "output_type": "display_data"
    }
   ],
   "source": [
    "coeff, x, y = start(\"./SelfSimilarFractals/minkSausage.png\")\n",
    "save_csv(x, y, \"./csvs/minkSausage.csv\")\n",
    "linreg(x,y)"
   ]
  },
  {
   "cell_type": "code",
   "execution_count": 181,
   "metadata": {},
   "outputs": [
    {
     "name": "stdout",
     "output_type": "stream",
     "text": [
      "Minkowski–Bouligand dimension (computed):  1.2718849457162957\n",
      "intercept: [10.74881599]\n",
      "slope: [[-1.27188495]]\n"
     ]
    },
    {
     "data": {
      "image/png": "[encoded data removed]",
      "text/plain": [
       "<Figure size 432x288 with 1 Axes>"
      ]
     },
     "metadata": {
      "needs_background": "light"
     },
     "output_type": "display_data"
    }
   ],
   "source": [
    "coeff, x, y = start(\"./SelfSimilarFractals/kochCurve.png\")\n",
    "save_csv(x, y, \"./csvs/minkSausage.csv\")\n",
    "linreg(x,y)"
   ]
  },
  {
   "cell_type": "code",
   "execution_count": 182,
   "metadata": {},
   "outputs": [
    {
     "name": "stdout",
     "output_type": "stream",
     "text": [
      "Minkowski–Bouligand dimension (computed):  1.5338194415290292\n",
      "intercept: [11.1795691]\n",
      "slope: [[-1.53381944]]\n"
     ]
    },
    {
     "data": {
      "image/png": "[encoded data removed]",
      "text/plain": [
       "<Figure size 432x288 with 1 Axes>"
      ]
     },
     "metadata": {
      "needs_background": "light"
     },
     "output_type": "display_data"
    }
   ],
   "source": [
    "coeff, x, y = start(\"./SelfSimilarFractals/SierpinskiTriangleHD.png\")\n",
    "save_csv(x, y, \"./csvs/minkSausage.csv\")\n",
    "linreg(x,y)"
   ]
  },
  {
   "cell_type": "code",
   "execution_count": null,
   "metadata": {},
   "outputs": [],
   "source": []
  },
  {
   "cell_type": "code",
   "execution_count": 23,
   "metadata": {},
   "outputs": [
    {
     "data": {
      "text/plain": [
       "1.5414985591375965"
      ]
     },
     "execution_count": 23,
     "metadata": {},
     "output_type": "execute_result"
    }
   ],
   "source": [
    "coeff"
   ]
  },
  {
   "cell_type": "markdown",
   "metadata": {},
   "source": [
    "- boundary pixels, (issues with 1 pixel size boxes)\n",
    "- removal of useless box sizes, too small just checking pixels, too big..."
   ]
  },
  {
   "cell_type": "code",
   "execution_count": null,
   "metadata": {},
   "outputs": [],
   "source": []
  },
  {
   "cell_type": "code",
   "execution_count": 167,
   "metadata": {},
   "outputs": [
    {
     "name": "stdout",
     "output_type": "stream",
     "text": [
      "(900, 1200)\n",
      "[512 256 128  64  32  16   8   4   2   3   5]\n",
      "[6, 14, 36, 102, 276, 777, 2080, 5761, 9562, 8247, 4109]\n",
      "[6.23832463 5.54517744 4.85203026 4.15888308 3.4657359  2.77258872\n",
      " 2.07944154 1.38629436 0.69314718 1.09861229 1.60943791]\n",
      "[1.79175947 2.63905733 3.58351894 4.62497281 5.62040087 6.65544035\n",
      " 7.64012317 8.65886635 9.16555219 9.01760478 8.32093497]\n",
      "Minkowski–Bouligand dimension (computed):  1.4007850089810898\n"
     ]
    }
   ],
   "source": [
    "coeff, x, y = start(\"./SelfSimilarFractals/translated/minkSausage10+10.png\")"
   ]
  },
  {
   "cell_type": "code",
   "execution_count": 21,
   "metadata": {},
   "outputs": [
    {
     "name": "stdout",
     "output_type": "stream",
     "text": [
      "Minkowski–Bouligand dimension (computed):  1.2677017441507263\n"
     ]
    }
   ],
   "source": [
    "coeff, x, y = start(\"./SelfSimilarFractals/translated/kochCurve10+10.png\")"
   ]
  },
  {
   "cell_type": "code",
   "execution_count": 22,
   "metadata": {},
   "outputs": [
    {
     "name": "stdout",
     "output_type": "stream",
     "text": [
      "Minkowski–Bouligand dimension (computed):  1.5414985591375965\n"
     ]
    }
   ],
   "source": [
    "coeff, x, y = start(\"./SelfSimilarFractals/translated/SierpinskiTriangleHD10+10.png\")"
   ]
  },
  {
   "cell_type": "markdown",
   "metadata": {},
   "source": [
    "### Showing Regression Plots of fractals"
   ]
  },
  {
   "cell_type": "code",
   "execution_count": 30,
   "metadata": {
    "scrolled": true
   },
   "outputs": [
    {
     "name": "stdout",
     "output_type": "stream",
     "text": [
      "intercept: [11.20459123]\n",
      "slope: [[-1.50851977]]\n"
     ]
    },
    {
     "data": {
      "image/png": "[encoded data removed]",
      "text/plain": [
       "<Figure size 432x288 with 1 Axes>"
      ]
     },
     "metadata": {
      "needs_background": "light"
     },
     "output_type": "display_data"
    }
   ],
   "source": [
    "linreg(x, y)"
   ]
  },
  {
   "cell_type": "code",
   "execution_count": 166,
   "metadata": {
    "scrolled": true
   },
   "outputs": [
    {
     "name": "stdout",
     "output_type": "stream",
     "text": [
      "(432, 432)\n",
      "[256 128  64  32  16   8   4   2   3   5]\n",
      "[4, 10, 23, 59, 135, 308, 734, 1508, 1048, 562]\n",
      "[5.54517744 4.85203026 4.15888308 3.4657359  2.77258872 2.07944154\n",
      " 1.38629436 0.69314718 1.09861229 1.60943791]\n",
      "[1.38629436 2.30258509 3.13549422 4.07753744 4.90527478 5.73009978\n",
      " 6.59850903 7.31853955 6.95463886 6.33150185]\n",
      "Minkowski–Bouligand dimension (computed):  1.2344443203579971\n"
     ]
    }
   ],
   "source": [
    "coeff, x, y = start(\"./SelfSimilarFractals/greatbritain.png\")\n",
    "save_csv(x, y, \"./csvs/greatbritain.csv\")"
   ]
  },
  {
   "cell_type": "code",
   "execution_count": 163,
   "metadata": {
    "scrolled": true
   },
   "outputs": [
    {
     "name": "stdout",
     "output_type": "stream",
     "text": [
      "intercept: [8.28868698]\n",
      "slope: [[-1.23444432]]\n"
     ]
    },
    {
     "data": {
      "image/png": "[encoded data removed]",
      "text/plain": [
       "<Figure size 432x288 with 1 Axes>"
      ]
     },
     "metadata": {
      "needs_background": "light"
     },
     "output_type": "display_data"
    }
   ],
   "source": [
    "linreg(x,y)"
   ]
  },
  {
   "cell_type": "code",
   "execution_count": null,
   "metadata": {},
   "outputs": [],
   "source": []
  },
  {
   "cell_type": "code",
   "execution_count": null,
   "metadata": {},
   "outputs": [],
   "source": []
  },
  {
   "cell_type": "code",
   "execution_count": null,
   "metadata": {},
   "outputs": [],
   "source": []
  },
  {
   "cell_type": "code",
   "execution_count": null,
   "metadata": {},
   "outputs": [],
   "source": []
  },
  {
   "cell_type": "code",
   "execution_count": null,
   "metadata": {},
   "outputs": [],
   "source": []
  },
  {
   "cell_type": "markdown",
   "metadata": {},
   "source": [
    "### Transalting image and saving it to the directory."
   ]
  },
  {
   "cell_type": "code",
   "execution_count": 2,
   "metadata": {},
   "outputs": [],
   "source": [
    "def translate(file_name, lr, ud):\n",
    "    ROOT = \"./SelfSimilarFractals/\"\n",
    "    \n",
    "    file_dir = ROOT + file_name\n",
    "    \n",
    "    img = cv2.imread(file_dir)\n",
    "    num_rows, num_cols = img.shape[:2]\n",
    "    \n",
    "    translation_matrix = np.float32([ [1,0,lr], [0,1,ud] ])\n",
    "    img_translation = cv2.warpAffine(img, translation_matrix, (num_cols, num_rows), borderValue=(255,255,255))\n",
    "    \n",
    "    new_path = ROOT + \"translated/\"+file_name[:-4]+ str(int(lr)) + \"+\" + str(int(ud)) + file_name[-4:]\n",
    "    \n",
    "    #plt.imshow(img_translation)\n",
    "    cv2.imwrite(new_path, img_translation)\n",
    "    return new_path\n",
    "    \n",
    "    "
   ]
  },
  {
   "cell_type": "code",
   "execution_count": 10,
   "metadata": {},
   "outputs": [
    {
     "data": {
      "text/plain": [
       "'./SelfSimilarFractals/translated/GreatBritain10+10.png'"
      ]
     },
     "execution_count": 10,
     "metadata": {},
     "output_type": "execute_result"
    }
   ],
   "source": [
    "translate(\"GreatBritain.png\", 10 , 10)"
   ]
  },
  {
   "cell_type": "code",
   "execution_count": 3,
   "metadata": {
    "scrolled": true
   },
   "outputs": [
    {
     "data": {
      "text/plain": [
       "'./SelfSimilarFractals/translated/SierpinskiTriangleHD10+10.png'"
      ]
     },
     "execution_count": 3,
     "metadata": {},
     "output_type": "execute_result"
    }
   ],
   "source": [
    "translate(\"GreatBritain.png\", 10 , 10)\n",
    "translate(\"minkSausage.png\", 10 ,10)\n",
    "translate(\"kochCurve.png\", 10 ,10 )\n",
    "translate(\"SierpinskiTriangleHD.png\", 10 ,10)"
   ]
  },
  {
   "cell_type": "code",
   "execution_count": 56,
   "metadata": {},
   "outputs": [],
   "source": [
    "def multi_translations(image, x, y):\n",
    "    new_path = translate(image, x, y)\n",
    "    coeff, x, y = start(new_path)\n",
    "    return coeff"
   ]
  },
  {
   "cell_type": "code",
   "execution_count": 80,
   "metadata": {},
   "outputs": [],
   "source": [
    "files = [\"GreatBritain.png\", \"minkSausage.png\", \"kochCurve.png\", \"SierpinskiTriangleHD.png\", \"JuliaSet.png\"]\n",
    "x= [0,1, -1 ,1 , -1, 1, 0,-1,0]\n",
    "y = [0,1 ,-1 ,-1, 1, 0, 1, 0,-1]\n",
    "\n",
    "x = list(np.array(x)*10)\n",
    "x = x +list(np.array(x)*2)  + list(np.array(x)*3) \n",
    "y = list(np.array(y)*10)\n",
    "y = y +list(np.array(y)*2) + list(np.array(y)*3) "
   ]
  },
  {
   "cell_type": "code",
   "execution_count": 81,
   "metadata": {
    "scrolled": true
   },
   "outputs": [
    {
     "data": {
      "text/plain": [
       "[0,\n",
       " 10,\n",
       " -10,\n",
       " 10,\n",
       " -10,\n",
       " 10,\n",
       " 0,\n",
       " -10,\n",
       " 0,\n",
       " 0,\n",
       " 20,\n",
       " -20,\n",
       " 20,\n",
       " -20,\n",
       " 20,\n",
       " 0,\n",
       " -20,\n",
       " 0,\n",
       " 0,\n",
       " 30,\n",
       " -30,\n",
       " 30,\n",
       " -30,\n",
       " 30,\n",
       " 0,\n",
       " -30,\n",
       " 0]"
      ]
     },
     "execution_count": 81,
     "metadata": {},
     "output_type": "execute_result"
    }
   ],
   "source": [
    "x"
   ]
  },
  {
   "cell_type": "code",
   "execution_count": 82,
   "metadata": {},
   "outputs": [
    {
     "data": {
      "text/plain": [
       "[0,\n",
       " 10,\n",
       " -10,\n",
       " -10,\n",
       " 10,\n",
       " 0,\n",
       " 10,\n",
       " 0,\n",
       " -10,\n",
       " 0,\n",
       " 20,\n",
       " -20,\n",
       " -20,\n",
       " 20,\n",
       " 0,\n",
       " 20,\n",
       " 0,\n",
       " -20,\n",
       " 0,\n",
       " 30,\n",
       " -30,\n",
       " -30,\n",
       " 30,\n",
       " 0,\n",
       " 30,\n",
       " 0,\n",
       " -30]"
      ]
     },
     "execution_count": 82,
     "metadata": {},
     "output_type": "execute_result"
    }
   ],
   "source": [
    "y"
   ]
  },
  {
   "cell_type": "code",
   "execution_count": 83,
   "metadata": {
    "scrolled": false
   },
   "outputs": [],
   "source": [
    "def normalize(x, newRange=(0, 1)): #x is an array. Default range is between zero and one\n",
    "    xmin, xmax = np.min(x), np.max(x) #get max and min from input array\n",
    "    norm = (x - xmin)/(xmax - xmin) # scale between zero and one\n",
    "    \n",
    "    if newRange == (0, 1):\n",
    "        return(norm) # wanted range is the same as norm\n",
    "    elif newRange != (0, 1):\n",
    "        return norm * (newRange[1] - newRange[0]) + newRange[0] #scale to a different range.    \n",
    "    #add other conditions here. For example, an error message"
   ]
  },
  {
   "cell_type": "code",
   "execution_count": 84,
   "metadata": {
    "scrolled": true
   },
   "outputs": [
    {
     "name": "stderr",
     "output_type": "stream",
     "text": [
      "libpng warning: iCCP: known incorrect sRGB profile\n",
      "libpng warning: iCCP: known incorrect sRGB profile\n",
      "libpng warning: iCCP: known incorrect sRGB profile\n",
      "libpng warning: iCCP: known incorrect sRGB profile\n",
      "libpng warning: iCCP: known incorrect sRGB profile\n",
      "libpng warning: iCCP: known incorrect sRGB profile\n",
      "libpng warning: iCCP: known incorrect sRGB profile\n",
      "libpng warning: iCCP: known incorrect sRGB profile\n",
      "libpng warning: iCCP: known incorrect sRGB profile\n",
      "libpng warning: iCCP: known incorrect sRGB profile\n",
      "libpng warning: iCCP: known incorrect sRGB profile\n",
      "libpng warning: iCCP: known incorrect sRGB profile\n",
      "libpng warning: iCCP: known incorrect sRGB profile\n",
      "libpng warning: iCCP: known incorrect sRGB profile\n",
      "libpng warning: iCCP: known incorrect sRGB profile\n",
      "libpng warning: iCCP: known incorrect sRGB profile\n",
      "libpng warning: iCCP: known incorrect sRGB profile\n",
      "libpng warning: iCCP: known incorrect sRGB profile\n",
      "libpng warning: iCCP: known incorrect sRGB profile\n",
      "libpng warning: iCCP: known incorrect sRGB profile\n",
      "libpng warning: iCCP: known incorrect sRGB profile\n",
      "libpng warning: iCCP: known incorrect sRGB profile\n",
      "libpng warning: iCCP: known incorrect sRGB profile\n",
      "libpng warning: iCCP: known incorrect sRGB profile\n",
      "libpng warning: iCCP: known incorrect sRGB profile\n",
      "libpng warning: iCCP: known incorrect sRGB profile\n",
      "libpng warning: iCCP: known incorrect sRGB profile\n"
     ]
    }
   ],
   "source": [
    "s = {}\n",
    "for file in files:\n",
    "    s[file] = []\n",
    "for file in files:\n",
    "    for idx in range(len(x)):\n",
    "        s[file].append(multi_translations(file, x[idx], y[idx]))\n",
    "\n",
    "for fractal in s.keys():\n",
    "    init = s[fractal][0]\n",
    "    for idx in range(len(s[fractal])):\n",
    "        s[fractal][idx] = abs(s[fractal][idx]-init)\n",
    "\n",
    "for fractal in s.keys():\n",
    "    s[fractal] = list(normalize(s[fractal], (0,200)))"
   ]
  },
  {
   "cell_type": "code",
   "execution_count": 85,
   "metadata": {},
   "outputs": [
    {
     "data": {
      "text/plain": [
       "{'GreatBritain.png': [0.0,\n",
       "  59.557074684868304,\n",
       "  29.50043385600223,\n",
       "  106.62405480211758,\n",
       "  5.428912931241758,\n",
       "  75.87606827368072,\n",
       "  3.5580290257467126,\n",
       "  0.360255863067484,\n",
       "  38.177483461497644,\n",
       "  0.0,\n",
       "  90.11858070104746,\n",
       "  1.8744308476697575,\n",
       "  147.04534406475295,\n",
       "  157.95310938265575,\n",
       "  169.33158525485922,\n",
       "  27.47528298119528,\n",
       "  6.914245564250865,\n",
       "  0.9643411301049004,\n",
       "  0.0,\n",
       "  114.30173005149871,\n",
       "  42.687442590338556,\n",
       "  121.62472688112315,\n",
       "  134.70847797664405,\n",
       "  191.8785231982964,\n",
       "  55.262218650534265,\n",
       "  200.0,\n",
       "  25.530542777830494],\n",
       " 'minkSausage.png': [0.0,\n",
       "  57.355940710440045,\n",
       "  14.05342108693757,\n",
       "  10.465005368830258,\n",
       "  1.4533558040739687,\n",
       "  80.0758566640909,\n",
       "  13.473045994808434,\n",
       "  47.281816496620735,\n",
       "  17.48665937442301,\n",
       "  0.0,\n",
       "  24.511654343850026,\n",
       "  4.50720236061098,\n",
       "  200.0,\n",
       "  19.052489121150153,\n",
       "  183.73253616903378,\n",
       "  57.248781424684815,\n",
       "  31.989907236709048,\n",
       "  34.19126284325753,\n",
       "  0.0,\n",
       "  21.831364334826883,\n",
       "  118.05173893401559,\n",
       "  186.46085995693284,\n",
       "  164.0447326920788,\n",
       "  27.473017646487673,\n",
       "  24.596797578563187,\n",
       "  126.80263246658816,\n",
       "  116.75963351692889],\n",
       " 'kochCurve.png': [0.0,\n",
       "  68.8991657023384,\n",
       "  99.05679835555343,\n",
       "  130.5094183418727,\n",
       "  67.57060584836665,\n",
       "  49.780747141733336,\n",
       "  45.57196866550661,\n",
       "  0.5949458555838094,\n",
       "  92.72662794930949,\n",
       "  0.0,\n",
       "  92.02963138951257,\n",
       "  29.714090039473433,\n",
       "  105.7753808833305,\n",
       "  21.3206232220992,\n",
       "  106.77327007027574,\n",
       "  33.29786626552658,\n",
       "  22.088572890009043,\n",
       "  26.786375007513985,\n",
       "  0.0,\n",
       "  195.24017724145372,\n",
       "  64.50350660428822,\n",
       "  200.0,\n",
       "  54.324653463998715,\n",
       "  89.22221614113353,\n",
       "  120.55003433258224,\n",
       "  63.23225059019606,\n",
       "  138.5055242214299],\n",
       " 'SierpinskiTriangleHD.png': [0.0,\n",
       "  62.01876487092437,\n",
       "  4.1032360073155525,\n",
       "  22.046592972021166,\n",
       "  92.42205524702722,\n",
       "  33.499089976108706,\n",
       "  32.65028469555295,\n",
       "  35.40673044910348,\n",
       "  28.776833351807674,\n",
       "  0.0,\n",
       "  34.94943211046522,\n",
       "  16.94266857191618,\n",
       "  11.921879300891026,\n",
       "  33.35703433308883,\n",
       "  4.440975104251244,\n",
       "  38.686020966933654,\n",
       "  6.374162182966349,\n",
       "  21.781248116034167,\n",
       "  0.0,\n",
       "  150.23603314922065,\n",
       "  40.81722302803812,\n",
       "  12.900899923317946,\n",
       "  153.8763337299556,\n",
       "  33.874801122279905,\n",
       "  200.0,\n",
       "  27.267602789257527,\n",
       "  19.07384867088837],\n",
       " 'JuliaSet.png': [0.0,\n",
       "  15.855152802070528,\n",
       "  41.620196458176856,\n",
       "  52.52327450718746,\n",
       "  14.181935803150358,\n",
       "  4.984691558535865,\n",
       "  31.33203295392397,\n",
       "  1.538283359592886,\n",
       "  39.61050722584957,\n",
       "  0.0,\n",
       "  14.059907372032821,\n",
       "  148.84244761012894,\n",
       "  168.17688875963012,\n",
       "  139.0776159630179,\n",
       "  37.29697487440002,\n",
       "  18.219783735725372,\n",
       "  8.551636278421311,\n",
       "  145.66991204161883,\n",
       "  0.0,\n",
       "  4.193254712838359,\n",
       "  200.0,\n",
       "  162.1136596075966,\n",
       "  137.70599760913203,\n",
       "  49.44850506066958,\n",
       "  17.765545397050907,\n",
       "  154.57003307143015,\n",
       "  154.03776741660405]}"
      ]
     },
     "execution_count": 85,
     "metadata": {},
     "output_type": "execute_result"
    }
   ],
   "source": [
    "s"
   ]
  },
  {
   "cell_type": "code",
   "execution_count": 88,
   "metadata": {},
   "outputs": [
    {
     "ename": "IndexError",
     "evalue": "list index out of range",
     "output_type": "error",
     "traceback": [
      "\u001b[0;31m---------------------------------------------------------------------------\u001b[0m",
      "\u001b[0;31mIndexError\u001b[0m                                Traceback (most recent call last)",
      "Input \u001b[0;32mIn [88]\u001b[0m, in \u001b[0;36m<cell line: 4>\u001b[0;34m()\u001b[0m\n\u001b[1;32m      4\u001b[0m \u001b[38;5;28;01mfor\u001b[39;00m i \u001b[38;5;129;01min\u001b[39;00m \u001b[38;5;28mrange\u001b[39m(\u001b[38;5;241m2\u001b[39m):\n\u001b[1;32m      5\u001b[0m     \u001b[38;5;28;01mfor\u001b[39;00m j \u001b[38;5;129;01min\u001b[39;00m \u001b[38;5;28mrange\u001b[39m(\u001b[38;5;241m3\u001b[39m):\n\u001b[0;32m----> 6\u001b[0m         axs[i,j]\u001b[38;5;241m.\u001b[39mscatter(x, y, s[\u001b[38;5;28;43mlist\u001b[39;49m\u001b[43m(\u001b[49m\u001b[43ms\u001b[49m\u001b[38;5;241;43m.\u001b[39;49m\u001b[43mkeys\u001b[49m\u001b[43m(\u001b[49m\u001b[43m)\u001b[49m\u001b[43m)\u001b[49m\u001b[43m[\u001b[49m\u001b[43mcount\u001b[49m\u001b[43m]\u001b[49m])\n\u001b[1;32m      7\u001b[0m         axs[i,j]\u001b[38;5;241m.\u001b[39mtitle\u001b[38;5;241m.\u001b[39mset_text(\u001b[38;5;28mlist\u001b[39m(s\u001b[38;5;241m.\u001b[39mkeys())[count])\n\u001b[1;32m      8\u001b[0m         \u001b[38;5;66;03m#fig.set_title(list(s.keys())[count])\u001b[39;00m\n",
      "\u001b[0;31mIndexError\u001b[0m: list index out of range"
     ]
    },
    {
     "data": {
      "image/png": "[encoded data removed]",
      "text/plain": [
       "<Figure size 432x288 with 6 Axes>"
      ]
     },
     "metadata": {
      "needs_background": "light"
     },
     "output_type": "display_data"
    }
   ],
   "source": [
    "fig, axs = plt.subplots(2, 3)\n",
    "fig.tight_layout()\n",
    "count = 0\n",
    "for i in range(2):\n",
    "    for j in range(3):\n",
    "        axs[i,j].scatter(x, y, s[list(s.keys())[count]])\n",
    "        axs[i,j].title.set_text(list(s.keys())[count])\n",
    "        #fig.set_title(list(s.keys())[count])\n",
    "        count +=1 \n",
    "        #print(i)\n",
    "        #print(j)"
   ]
  },
  {
   "cell_type": "code",
   "execution_count": null,
   "metadata": {},
   "outputs": [],
   "source": []
  },
  {
   "cell_type": "code",
   "execution_count": 55,
   "metadata": {},
   "outputs": [
    {
     "ename": "IndexError",
     "evalue": "list index out of range",
     "output_type": "error",
     "traceback": [
      "\u001b[0;31m---------------------------------------------------------------------------\u001b[0m",
      "\u001b[0;31mIndexError\u001b[0m                                Traceback (most recent call last)",
      "Input \u001b[0;32mIn [55]\u001b[0m, in \u001b[0;36m<cell line: 4>\u001b[0;34m()\u001b[0m\n\u001b[1;32m      4\u001b[0m \u001b[38;5;28;01mfor\u001b[39;00m i \u001b[38;5;129;01min\u001b[39;00m \u001b[38;5;28mrange\u001b[39m(\u001b[38;5;241m2\u001b[39m):\n\u001b[1;32m      5\u001b[0m     \u001b[38;5;28;01mfor\u001b[39;00m j \u001b[38;5;129;01min\u001b[39;00m \u001b[38;5;28mrange\u001b[39m(\u001b[38;5;241m3\u001b[39m):\n\u001b[0;32m----> 6\u001b[0m         axs[i,j]\u001b[38;5;241m.\u001b[39mscatter(x, y, s[\u001b[38;5;28;43mlist\u001b[39;49m\u001b[43m(\u001b[49m\u001b[43ms\u001b[49m\u001b[38;5;241;43m.\u001b[39;49m\u001b[43mkeys\u001b[49m\u001b[43m(\u001b[49m\u001b[43m)\u001b[49m\u001b[43m)\u001b[49m\u001b[43m[\u001b[49m\u001b[43mcount\u001b[49m\u001b[43m]\u001b[49m])\n\u001b[1;32m      7\u001b[0m         axs[i,j]\u001b[38;5;241m.\u001b[39mtitle\u001b[38;5;241m.\u001b[39mset_text(\u001b[38;5;28mlist\u001b[39m(s\u001b[38;5;241m.\u001b[39mkeys())[count])\n\u001b[1;32m      8\u001b[0m         \u001b[38;5;66;03m#fig.set_title(list(s.keys())[count])\u001b[39;00m\n",
      "\u001b[0;31mIndexError\u001b[0m: list index out of range"
     ]
    },
    {
     "data": {
      "image/png": "[encoded data removed]",
      "text/plain": [
       "<Figure size 432x288 with 9 Axes>"
      ]
     },
     "metadata": {
      "needs_background": "light"
     },
     "output_type": "display_data"
    }
   ],
   "source": [
    "fig, axs = plt.subplots(3, 3)\n",
    "fig.tight_layout()\n",
    "count = 0\n",
    "for i in range(2):\n",
    "    for j in range(3):\n",
    "        axs[i,j].scatter(x, y, s[list(s.keys())[count]])\n",
    "        axs[i,j].title.set_text(list(s.keys())[count])\n",
    "        #fig.set_title(list(s.keys())[count])\n",
    "        count +=1 \n",
    "        #print(i)\n",
    "        #print(j)\n"
   ]
  },
  {
   "cell_type": "code",
   "execution_count": null,
   "metadata": {
    "scrolled": false
   },
   "outputs": [],
   "source": [
    "range(1)"
   ]
  },
  {
   "cell_type": "code",
   "execution_count": 29,
   "metadata": {
    "scrolled": true
   },
   "outputs": [
    {
     "data": {
      "text/plain": [
       "<matplotlib.collections.PathCollection at 0x7f86e8e50b50>"
      ]
     },
     "execution_count": 29,
     "metadata": {},
     "output_type": "execute_result"
    },
    {
     "data": {
      "image/png": "[encoded data removed]",
      "text/plain": [
       "<Figure size 432x288 with 1 Axes>"
      ]
     },
     "metadata": {
      "needs_background": "light"
     },
     "output_type": "display_data"
    }
   ],
   "source": [
    "plt.scatter(x, y, s =s[\"GreatBritain.png\"])"
   ]
  },
  {
   "cell_type": "code",
   "execution_count": 30,
   "metadata": {},
   "outputs": [
    {
     "data": {
      "text/plain": [
       "<matplotlib.collections.PathCollection at 0x7f86c82d8c70>"
      ]
     },
     "execution_count": 30,
     "metadata": {},
     "output_type": "execute_result"
    },
    {
     "data": {
      "image/png": "[encoded data removed]",
      "text/plain": [
       "<Figure size 432x288 with 1 Axes>"
      ]
     },
     "metadata": {
      "needs_background": "light"
     },
     "output_type": "display_data"
    }
   ],
   "source": [
    "plt.scatter(x, y, s =s[\"minkSausage.png\"])"
   ]
  },
  {
   "cell_type": "code",
   "execution_count": 31,
   "metadata": {},
   "outputs": [
    {
     "data": {
      "text/plain": [
       "<matplotlib.collections.PathCollection at 0x7f86880261c0>"
      ]
     },
     "execution_count": 31,
     "metadata": {},
     "output_type": "execute_result"
    },
    {
     "data": {
      "image/png": "[encoded data removed]",
      "text/plain": [
       "<Figure size 432x288 with 1 Axes>"
      ]
     },
     "metadata": {
      "needs_background": "light"
     },
     "output_type": "display_data"
    }
   ],
   "source": [
    "plt.scatter(x, y, s =s[\"kochCurve.png\"])"
   ]
  },
  {
   "cell_type": "code",
   "execution_count": 32,
   "metadata": {},
   "outputs": [
    {
     "data": {
      "text/plain": [
       "<matplotlib.collections.PathCollection at 0x7f86980e4790>"
      ]
     },
     "execution_count": 32,
     "metadata": {},
     "output_type": "execute_result"
    },
    {
     "data": {
      "image/png": "[encoded data removed]",
      "text/plain": [
       "<Figure size 432x288 with 1 Axes>"
      ]
     },
     "metadata": {
      "needs_background": "light"
     },
     "output_type": "display_data"
    }
   ],
   "source": [
    "plt.scatter(x, y, s =s[\"SierpinskiTriangleHD.png\"])"
   ]
  },
  {
   "cell_type": "code",
   "execution_count": null,
   "metadata": {},
   "outputs": [],
   "source": []
  },
  {
   "cell_type": "code",
   "execution_count": null,
   "metadata": {},
   "outputs": [],
   "source": []
  }
 ],
 "metadata": {
  "kernelspec": {
   "display_name": "Python 3 (ipykernel)",
   "language": "python",
   "name": "python3"
  },
  "language_info": {
   "codemirror_mode": {
    "name": "ipython",
    "version": 3
   },
   "file_extension": ".py",
   "mimetype": "text/x-python",
   "name": "python",
   "nbconvert_exporter": "python",
   "pygments_lexer": "ipython3",
   "version": "3.9.12"
  }
 },
 "nbformat": 4,
 "nbformat_minor": 4
}
