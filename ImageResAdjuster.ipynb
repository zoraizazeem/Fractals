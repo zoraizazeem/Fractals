{
 "cells": [
  {
   "cell_type": "code",
   "execution_count": 40,
   "id": "dda1c97a",
   "metadata": {},
   "outputs": [],
   "source": [
    "from PIL import Image\n",
    "import cv2"
   ]
  },
  {
   "cell_type": "code",
   "execution_count": 65,
   "id": "5b6cfa49",
   "metadata": {},
   "outputs": [],
   "source": [
    "def image_res(file_path , resolution= 0.5):\n",
    "    ROOT = \"./SelfSimilarFractals/\"\n",
    "    old_path = ROOT + file_path\n",
    "    new_path = ROOT + file_path[:-4]+ str(int(resolution* 100))+ file_path[-4:]\n",
    "    \n",
    "    dims = (cv2.imread(old_path, cv2.IMREAD_GRAYSCALE)).shape\n",
    "    #dims = I.shape\n",
    "    print(dims)\n",
    "    new_dims = int(dims[0]*resolution), int(dims[1]*resolution)\n",
    "    #new_dims = int(max(dims)*resolution) , int(max(dims)*resolution)\n",
    "    print(new_dims)\n",
    "    \n",
    "    im = Image.open(old_path)\n",
    "    im_resized = im.resize(new_dims, Image.ANTIALIAS)\n",
    "    im_resized.save(new_path, \"PNG\")"
   ]
  },
  {
   "cell_type": "code",
   "execution_count": 67,
   "id": "303cd363",
   "metadata": {},
   "outputs": [
    {
     "name": "stdout",
     "output_type": "stream",
     "text": [
      "(2340, 4680)\n",
      "(234, 468)\n"
     ]
    },
    {
     "name": "stderr",
     "output_type": "stream",
     "text": [
      "/var/folders/jd/r79cklw57_bgyl4gtpf5f85c0000gn/T/ipykernel_20097/204787616.py:14: DeprecationWarning: ANTIALIAS is deprecated and will be removed in Pillow 10 (2023-07-01). Use Resampling.LANCZOS instead.\n",
      "  im_resized = im.resize(new_dims, Image.ANTIALIAS)\n"
     ]
    },
    {
     "name": "stdout",
     "output_type": "stream",
     "text": [
      "(2048, 2048)\n",
      "(204, 204)\n",
      "(432, 432)\n",
      "(43, 43)\n"
     ]
    }
   ],
   "source": [
    "image_res(\"kochCurve.png\", 0.1)\n",
    "image_res(\"koch.png\",  0.1)\n",
    "image_res(\"greatbritain.png\",  0.1)"
   ]
  },
  {
   "cell_type": "code",
   "execution_count": 17,
   "id": "4555f890",
   "metadata": {},
   "outputs": [],
   "source": [
    "\n",
    "  \n",
    "# Open the image by specifying the image path.\n",
    "image_path = \"./SelfSimilarFractals/koch.png\"\n",
    "new_path = \"./SelfSimilarFractals/koch50.png\"\n",
    "image_file = Image.open(image_path)\n",
    "  \n",
    "# the default\n",
    "image_file.save(\"./SelfSimilarFractals/SierpinskiTriangle1.png\", quality=1)\n"
   ]
  },
  {
   "cell_type": "code",
   "execution_count": 6,
   "id": "387e3406",
   "metadata": {},
   "outputs": [],
   "source": [
    "size = 7016, 4961"
   ]
  },
  {
   "cell_type": "code",
   "execution_count": 28,
   "id": "b84f7d25",
   "metadata": {},
   "outputs": [],
   "source": [
    "test = \"sierp.png\""
   ]
  },
  {
   "cell_type": "code",
   "execution_count": 29,
   "id": "f33bf53b",
   "metadata": {
    "scrolled": true
   },
   "outputs": [
    {
     "data": {
      "text/plain": [
       "'sierp50.png'"
      ]
     },
     "execution_count": 29,
     "metadata": {},
     "output_type": "execute_result"
    }
   ],
   "source": [
    "test[:-4]+ \"50\"+ test[-4:]"
   ]
  },
  {
   "cell_type": "code",
   "execution_count": 11,
   "id": "fd862c2f",
   "metadata": {},
   "outputs": [],
   "source": [
    "import cv2"
   ]
  },
  {
   "cell_type": "code",
   "execution_count": 31,
   "id": "e86bf5f0",
   "metadata": {
    "scrolled": true
   },
   "outputs": [],
   "source": [
    "I = cv2.imread(image_path, cv2.IMREAD_GRAYSCALE)\n",
    "z = I.shape"
   ]
  },
  {
   "cell_type": "code",
   "execution_count": 38,
   "id": "c28aff34",
   "metadata": {},
   "outputs": [],
   "source": [
    "res = 0.5"
   ]
  },
  {
   "cell_type": "code",
   "execution_count": 39,
   "id": "aa6fb26d",
   "metadata": {},
   "outputs": [
    {
     "data": {
      "text/plain": [
       "(1024, 1024)"
      ]
     },
     "execution_count": 39,
     "metadata": {},
     "output_type": "execute_result"
    }
   ],
   "source": [
    "int(z[0]*res), int(z[1]*res)"
   ]
  },
  {
   "cell_type": "code",
   "execution_count": null,
   "id": "d0c36d27",
   "metadata": {},
   "outputs": [],
   "source": []
  },
  {
   "cell_type": "code",
   "execution_count": null,
   "id": "12c2f717",
   "metadata": {},
   "outputs": [],
   "source": []
  },
  {
   "cell_type": "code",
   "execution_count": null,
   "id": "57f01d1d",
   "metadata": {},
   "outputs": [],
   "source": []
  },
  {
   "cell_type": "code",
   "execution_count": 19,
   "id": "54f04379",
   "metadata": {},
   "outputs": [
    {
     "data": {
      "text/plain": [
       "1024.0"
      ]
     },
     "execution_count": 19,
     "metadata": {},
     "output_type": "execute_result"
    }
   ],
   "source": [
    "2048/2"
   ]
  },
  {
   "cell_type": "code",
   "execution_count": 15,
   "id": "9e2ec1d3",
   "metadata": {},
   "outputs": [
    {
     "data": {
      "text/plain": [
       "561.0"
      ]
     },
     "execution_count": 15,
     "metadata": {},
     "output_type": "execute_result"
    }
   ],
   "source": [
    "1122/2"
   ]
  },
  {
   "cell_type": "code",
   "execution_count": 20,
   "id": "67cc10b9",
   "metadata": {},
   "outputs": [
    {
     "name": "stderr",
     "output_type": "stream",
     "text": [
      "/var/folders/jd/r79cklw57_bgyl4gtpf5f85c0000gn/T/ipykernel_20097/3766384061.py:3: DeprecationWarning: ANTIALIAS is deprecated and will be removed in Pillow 10 (2023-07-01). Use Resampling.LANCZOS instead.\n",
      "  im_resized = im.resize(size, Image.ANTIALIAS)\n"
     ]
    }
   ],
   "source": [
    "size = 1024, 1024\n",
    "im = Image.open(image_path)\n",
    "im_resized = im.resize(size, Image.ANTIALIAS)\n",
    "im_resized.save(new_path, \"PNG\")"
   ]
  },
  {
   "cell_type": "code",
   "execution_count": null,
   "id": "eebe1690",
   "metadata": {},
   "outputs": [],
   "source": []
  }
 ],
 "metadata": {
  "kernelspec": {
   "display_name": "Python 3 (ipykernel)",
   "language": "python",
   "name": "python3"
  },
  "language_info": {
   "codemirror_mode": {
    "name": "ipython",
    "version": 3
   },
   "file_extension": ".py",
   "mimetype": "text/x-python",
   "name": "python",
   "nbconvert_exporter": "python",
   "pygments_lexer": "ipython3",
   "version": "3.9.12"
  }
 },
 "nbformat": 4,
 "nbformat_minor": 5
}
