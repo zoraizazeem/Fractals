{
 "cells": [
  {
   "cell_type": "code",
   "execution_count": 40,
   "id": "027b89fc",
   "metadata": {},
   "outputs": [],
   "source": [
    "from PIL import Image\n",
    "import cv2"
   ]
  },
  {
   "cell_type": "code",
   "execution_count": 65,
   "id": "8c6235a6",
   "metadata": {},
   "outputs": [],
   "source": [
    "def image_res(file_path , resolution= 0.5):\n",
    "    ROOT = \"./SelfSimilarFractals/\"\n",
    "    old_path = ROOT + file_path\n",
    "    new_path = ROOT + file_path[:-4]+ str(int(resolution* 100))+ file_path[-4:]\n",
    "    \n",
    "    dims = (cv2.imread(old_path, cv2.IMREAD_GRAYSCALE)).shape\n",
    "    #dims = I.shape\n",
    "    print(dims)\n",
    "    new_dims = int(dims[0]*resolution), int(dims[1]*resolution)\n",
    "    #new_dims = int(max(dims)*resolution) , int(max(dims)*resolution)\n",
    "    print(new_dims)\n",
    "    \n",
    "    im = Image.open(old_path)\n",
    "    im_resized = im.resize(new_dims, Image.ANTIALIAS)\n",
    "    im_resized.save(new_path, \"PNG\")"
   ]
  },
  {
   "cell_type": "code",
   "execution_count": 66,
   "id": "184a6de4",
   "metadata": {},
   "outputs": [
    {
     "name": "stdout",
     "output_type": "stream",
     "text": [
      "(2340, 4680)\n",
      "(1170, 2340)\n"
     ]
    },
    {
     "name": "stderr",
     "output_type": "stream",
     "text": [
      "/var/folders/jd/r79cklw57_bgyl4gtpf5f85c0000gn/T/ipykernel_20097/204787616.py:14: DeprecationWarning: ANTIALIAS is deprecated and will be removed in Pillow 10 (2023-07-01). Use Resampling.LANCZOS instead.\n",
      "  im_resized = im.resize(new_dims, Image.ANTIALIAS)\n"
     ]
    },
    {
     "name": "stdout",
     "output_type": "stream",
     "text": [
      "(2048, 2048)\n",
      "(1024, 1024)\n",
      "(432, 432)\n",
      "(216, 216)\n"
     ]
    }
   ],
   "source": [
    "image_res(\"kochCurve.png\", 0.1)\n",
    "image_res(\"koch.png\",  0.1)\n",
    "image_res(\"greatbritain.png\",  0.1)"
   ]
  },
  {
   "cell_type": "code",
   "execution_count": 17,
   "id": "4555f890",
   "metadata": {},
   "outputs": [],
   "source": [
    "\n",
    "  \n",
    "# Open the image by specifying the image path.\n",
    "image_path = \"./SelfSimilarFractals/koch.png\"\n",
    "new_path = \"./SelfSimilarFractals/koch50.png\"\n",
    "image_file = Image.open(image_path)\n",
    "  \n",
    "# the default\n",
    "image_file.save(\"./SelfSimilarFractals/SierpinskiTriangle1.png\", quality=1)\n"
   ]
  },
  {
   "cell_type": "code",
   "execution_count": 6,
   "id": "a7181083",
   "metadata": {},
   "outputs": [],
   "source": [
    "size = 7016, 4961"
   ]
  },
  {
   "cell_type": "code",
   "execution_count": 28,
   "id": "e2b19ba1",
   "metadata": {},
   "outputs": [],
   "source": [
    "test = \"sierp.png\""
   ]
  },
  {
   "cell_type": "code",
   "execution_count": 29,
   "id": "6ba66d9e",
   "metadata": {
    "scrolled": true
   },
   "outputs": [
    {
     "data": {
      "text/plain": [
       "'sierp50.png'"
      ]
     },
     "execution_count": 29,
     "metadata": {},
     "output_type": "execute_result"
    }
   ],
   "source": [
    "test[:-4]+ \"50\"+ test[-4:]"
   ]
  },
  {
   "cell_type": "code",
   "execution_count": 11,
   "id": "1975796a",
   "metadata": {},
   "outputs": [],
   "source": [
    "import cv2"
   ]
  },
  {
   "cell_type": "code",
   "execution_count": 31,
   "id": "0288193c",
   "metadata": {
    "scrolled": true
   },
   "outputs": [],
   "source": [
    "I = cv2.imread(image_path, cv2.IMREAD_GRAYSCALE)\n",
    "z = I.shape"
   ]
  },
  {
   "cell_type": "code",
   "execution_count": 38,
   "id": "d2e3d737",
   "metadata": {},
   "outputs": [],
   "source": [
    "res = 0.5"
   ]
  },
  {
   "cell_type": "code",
   "execution_count": 39,
   "id": "ee2cdd70",
   "metadata": {},
   "outputs": [
    {
     "data": {
      "text/plain": [
       "(1024, 1024)"
      ]
     },
     "execution_count": 39,
     "metadata": {},
     "output_type": "execute_result"
    }
   ],
   "source": [
    "int(z[0]*res), int(z[1]*res)"
   ]
  },
  {
   "cell_type": "code",
   "execution_count": null,
   "id": "fc09d004",
   "metadata": {},
   "outputs": [],
   "source": []
  },
  {
   "cell_type": "code",
   "execution_count": null,
   "id": "4af244cc",
   "metadata": {},
   "outputs": [],
   "source": []
  },
  {
   "cell_type": "code",
   "execution_count": null,
   "id": "99cebd18",
   "metadata": {},
   "outputs": [],
   "source": []
  },
  {
   "cell_type": "code",
   "execution_count": 19,
   "id": "834ed53a",
   "metadata": {},
   "outputs": [
    {
     "data": {
      "text/plain": [
       "1024.0"
      ]
     },
     "execution_count": 19,
     "metadata": {},
     "output_type": "execute_result"
    }
   ],
   "source": [
    "2048/2"
   ]
  },
  {
   "cell_type": "code",
   "execution_count": 15,
   "id": "0118b81e",
   "metadata": {},
   "outputs": [
    {
     "data": {
      "text/plain": [
       "561.0"
      ]
     },
     "execution_count": 15,
     "metadata": {},
     "output_type": "execute_result"
    }
   ],
   "source": [
    "1122/2"
   ]
  },
  {
   "cell_type": "code",
   "execution_count": 20,
   "id": "304037a7",
   "metadata": {},
   "outputs": [
    {
     "name": "stderr",
     "output_type": "stream",
     "text": [
      "/var/folders/jd/r79cklw57_bgyl4gtpf5f85c0000gn/T/ipykernel_20097/3766384061.py:3: DeprecationWarning: ANTIALIAS is deprecated and will be removed in Pillow 10 (2023-07-01). Use Resampling.LANCZOS instead.\n",
      "  im_resized = im.resize(size, Image.ANTIALIAS)\n"
     ]
    }
   ],
   "source": [
    "size = 1024, 1024\n",
    "im = Image.open(image_path)\n",
    "im_resized = im.resize(size, Image.ANTIALIAS)\n",
    "im_resized.save(new_path, \"PNG\")"
   ]
  },
  {
   "cell_type": "code",
   "execution_count": null,
   "id": "e527dda6",
   "metadata": {},
   "outputs": [],
   "source": []
  }
 ],
 "metadata": {
  "kernelspec": {
   "display_name": "Python 3 (ipykernel)",
   "language": "python",
   "name": "python3"
  },
  "language_info": {
   "codemirror_mode": {
    "name": "ipython",
    "version": 3
   },
   "file_extension": ".py",
   "mimetype": "text/x-python",
   "name": "python",
   "nbconvert_exporter": "python",
   "pygments_lexer": "ipython3",
   "version": "3.9.12"
  }
 },
 "nbformat": 4,
 "nbformat_minor": 5
}
