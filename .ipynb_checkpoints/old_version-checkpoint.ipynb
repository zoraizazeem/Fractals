{
 "cells": [
  {
   "cell_type": "code",
   "execution_count": 1,
   "metadata": {},
   "outputs": [],
   "source": [
    "import scipy.misc\n",
    "import numpy as np\n",
    "from sklearn.linear_model import LinearRegression\n",
    "import cv2\n",
    "import matplotlib.pyplot as plt\n",
    "from PIL import Image\n",
    "import csv\n",
    "from tqdm import tqdm\n",
    "import matplotlib.pyplot as plt\n",
    "from matplotlib.pyplot import figure"
   ]
  },
  {
   "cell_type": "code",
   "execution_count": 2,
   "metadata": {
    "scrolled": true
   },
   "outputs": [],
   "source": [
    "def linreg(x1,y1):\n",
    "    model = LinearRegression()\n",
    "    x1 = x1.reshape(-1, 1)\n",
    "    y1 = y1.reshape(-1, 1)\n",
    "    model.fit(x1, y1)\n",
    "    print(f\"intercept: {model.intercept_}\")\n",
    "    print(f\"slope: {model.coef_}\")\n",
    "    plt.scatter(x1, y1,color='g')\n",
    "    plt.plot(x1, model.predict(x1),color='k')"
   ]
  },
  {
   "cell_type": "code",
   "execution_count": 3,
   "metadata": {
    "scrolled": true
   },
   "outputs": [],
   "source": [
    "\n",
    "\n",
    "\n",
    "def fractal_dimension(Z, threshold=0.9):\n",
    "\n",
    "    # Only for 2d image\n",
    "    #print((Z.shape))\n",
    "    assert(len(Z.shape) == 2)\n",
    "\n",
    "    \n",
    "    def boxcount(Z, k):\n",
    "        S = np.add.reduceat(\n",
    "            np.add.reduceat(Z, np.arange(0, Z.shape[0], k), axis=0),\n",
    "                               np.arange(0, Z.shape[1], k), axis=1)\n",
    "\n",
    "        # We count non-empty (0) and non-full boxes (k*k)\n",
    "        return len(np.where((S > 0) & (S < k*k))[0])\n",
    "\n",
    "\n",
    "    # Transform Z into a binary array\n",
    "    Z = (Z < threshold)\n",
    "\n",
    "    # Minimal dimension of image\n",
    "    p = min(Z.shape)\n",
    "    \n",
    "    \n",
    "    # Greatest power of 2 less than or equal to p\n",
    "    n = 2**np.floor(np.log(p)/np.log(2))\n",
    "\n",
    "    # Extract the exponent\n",
    "    n = int(np.log(n)/np.log(2))\n",
    "    \n",
    "    # Build successive box sizes (from 2**n down to 2**1)\n",
    "    sizes = 2**np.arange(n, 1, -1)\n",
    "    #print(sizes)\n",
    "    # Actual box counting with decreasing size\n",
    "    counts = []\n",
    "    for size in sizes:\n",
    "        counts.append(boxcount(Z, size))\n",
    "\n",
    "    # Fit the successive log(sizes) with log (counts)\n",
    "    \n",
    "    coeffs = np.polyfit(np.log(sizes), np.log(counts), 1)\n",
    "    x = np.log(sizes)\n",
    "    y = np.log(counts)\n",
    "    \n",
    "    return -coeffs[0], x, y\n",
    "\n",
    "\n",
    "#coeff, x, y  = fractal_dimension(I)\n",
    "#print(\"Minkowski–Bouligand dimension (computed): \", coeff)\n",
    "#print(\"Haussdorf dimension (theoretical):        \", (np.log(3)/np.log(2)))"
   ]
  },
  {
   "cell_type": "code",
   "execution_count": 4,
   "metadata": {},
   "outputs": [],
   "source": [
    "def start(filename):\n",
    "    I = cv2.imread(filename, cv2.IMREAD_GRAYSCALE)\n",
    "    I = I/256\n",
    "    coeff, x, y  = fractal_dimension(I)\n",
    "    print(\"Minkowski–Bouligand dimension (computed): \", coeff)\n",
    "    return coeff, x, y"
   ]
  },
  {
   "cell_type": "code",
   "execution_count": 5,
   "metadata": {
    "scrolled": true
   },
   "outputs": [],
   "source": [
    "def save_csv(xs, ys, filename):\n",
    "    data_dict = []\n",
    "    for i in  range(len(xs)):\n",
    "        xval = str(xs[i])\n",
    "        yval = str(ys[i])\n",
    "        temp = dict(xs = xval, ys = yval)\n",
    "        data_dict.append(temp)\n",
    "\n",
    "    field_names = ['xs', 'ys']\n",
    "    with open(filename, 'w') as csvfile:\n",
    "        writer = csv.DictWriter(csvfile, fieldnames = field_names)\n",
    "        writer.writeheader()\n",
    "        writer.writerows(data_dict)"
   ]
  },
  {
   "cell_type": "code",
   "execution_count": 6,
   "metadata": {},
   "outputs": [
    {
     "name": "stdout",
     "output_type": "stream",
     "text": [
      "Minkowski–Bouligand dimension (computed):  1.3097155996788203\n"
     ]
    }
   ],
   "source": [
    "coeff, x, y = start(\"./fractals/koch.png\")\n",
    "save_csv(x, y, \"./csvs/koch.csv\")"
   ]
  },
  {
   "cell_type": "code",
   "execution_count": 7,
   "metadata": {},
   "outputs": [
    {
     "name": "stdout",
     "output_type": "stream",
     "text": [
      "Minkowski–Bouligand dimension (computed):  0.8228873656589043\n"
     ]
    }
   ],
   "source": [
    "coeff, x, y = start(\"./fractals/sierpinski.png\")\n",
    "save_csv(x, y, \"./csvs/sierpinski.csv\")"
   ]
  },
  {
   "cell_type": "code",
   "execution_count": 8,
   "metadata": {},
   "outputs": [
    {
     "name": "stdout",
     "output_type": "stream",
     "text": [
      "Minkowski–Bouligand dimension (computed):  1.2500671175406615\n"
     ]
    }
   ],
   "source": [
    "coeff, x, y = start(\"./fractals/greatbritain.png\")\n",
    "save_csv(x, y, \"./csvs/greatbritain.csv\")"
   ]
  },
  {
   "cell_type": "code",
   "execution_count": null,
   "metadata": {},
   "outputs": [],
   "source": []
  },
  {
   "cell_type": "code",
   "execution_count": null,
   "metadata": {},
   "outputs": [],
   "source": []
  },
  {
   "cell_type": "code",
   "execution_count": 9,
   "metadata": {},
   "outputs": [
    {
     "name": "stdout",
     "output_type": "stream",
     "text": [
      "intercept: [8.35180173]\n",
      "slope: [[-1.25006712]]\n"
     ]
    },
    {
     "data": {
      "image/png": "[encoded data removed]",
      "text/plain": [
       "<Figure size 432x288 with 1 Axes>"
      ]
     },
     "metadata": {
      "needs_background": "light"
     },
     "output_type": "display_data"
    }
   ],
   "source": [
    "linreg(x, y)\n"
   ]
  },
  {
   "cell_type": "markdown",
   "metadata": {},
   "source": [
    "image interpolation?\n",
    "threshold\n"
   ]
  },
  {
   "cell_type": "code",
   "execution_count": null,
   "metadata": {},
   "outputs": [],
   "source": []
  },
  {
   "cell_type": "code",
   "execution_count": null,
   "metadata": {},
   "outputs": [],
   "source": []
  },
  {
   "cell_type": "code",
   "execution_count": 55,
   "metadata": {},
   "outputs": [],
   "source": []
  },
  {
   "cell_type": "code",
   "execution_count": null,
   "metadata": {},
   "outputs": [],
   "source": []
  },
  {
   "cell_type": "code",
   "execution_count": 15,
   "metadata": {},
   "outputs": [],
   "source": [
    "def remove_colour(fname, col_min, col_max):\n",
    "    upstate = cv2.imread('fig1_modified.png')\n",
    "    upstate_hsv = cv2.cvtColor(upstate, cv2.COLOR_BGR2HSV)\n",
    "    mask_inverse = cv2.inRange(upstate_hsv, col_min, col_max)\n",
    "    mask = cv2.bitwise_not(mask_inverse)\n",
    "    mask_rgb = cv2.cvtColor(mask, cv2.COLOR_GRAY2RGB)\n",
    "    masked_upstate = cv2.bitwise_and(upstate, mask_rgb)\n",
    "    # masked_replace_white = cv2.addWeighted(masked_upstate, 1, cv2.cvtColor(mask_inverse, cv2.COLOR_GRAY2RGB), 1, 0)\n",
    "    # img = masked_upstate\n",
    "    cv2.imwrite(fname, masked_upstate)\n",
    "    \n",
    "    \n",
    "    "
   ]
  },
  {
   "cell_type": "markdown",
   "metadata": {},
   "source": [
    "historgram of unique colours in image, more methodical to select colour bands"
   ]
  },
  {
   "cell_type": "code",
   "execution_count": 66,
   "metadata": {},
   "outputs": [
    {
     "data": {
      "text/plain": [
       "(array([[5.812e+03, 5.000e+00, 5.000e+00, 1.000e+00, 2.800e+01, 2.600e+01,\n",
       "         2.000e+00, 3.000e+01, 3.000e+00, 4.000e+00],\n",
       "        [5.912e+03, 0.000e+00, 0.000e+00, 0.000e+00, 0.000e+00, 0.000e+00,\n",
       "         0.000e+00, 0.000e+00, 0.000e+00, 4.000e+00],\n",
       "        [5.813e+03, 2.000e+00, 1.000e+00, 2.000e+00, 4.000e+00, 1.000e+00,\n",
       "         2.000e+00, 1.000e+00, 0.000e+00, 9.000e+01]]),\n",
       " array([  0. ,  25.5,  51. ,  76.5, 102. , 127.5, 153. , 178.5, 204. ,\n",
       "        229.5, 255. ]),\n",
       " <a list of 3 BarContainer objects>)"
      ]
     },
     "execution_count": 66,
     "metadata": {},
     "output_type": "execute_result"
    },
    {
     "data": {
      "image/png": "[encoded data removed]",
      "text/plain": [
       "<Figure size 432x288 with 1 Axes>"
      ]
     },
     "metadata": {
      "needs_background": "light"
     },
     "output_type": "display_data"
    }
   ],
   "source": [
    "plt.hist(img[234])"
   ]
  },
  {
   "cell_type": "code",
   "execution_count": null,
   "metadata": {},
   "outputs": [],
   "source": []
  },
  {
   "cell_type": "code",
   "execution_count": 67,
   "metadata": {},
   "outputs": [],
   "source": [
    "img = cv2.imread(\"tester.png\")"
   ]
  },
  {
   "cell_type": "code",
   "execution_count": 69,
   "metadata": {
    "scrolled": true
   },
   "outputs": [
    {
     "name": "stderr",
     "output_type": "stream",
     "text": [
      "100%|███████████████████████████████████████| 5916/5916 [03:32<00:00, 27.85it/s]\n"
     ]
    }
   ],
   "source": [
    "\n",
    "\"\"\"#for i in (range(10)):\n",
    "res2 = []\n",
    "res = []\n",
    "count = 0\n",
    "for pixel in tqdm(img):\n",
    "    for i in pixel:\n",
    "        res2.append(i)\n",
    "        #count +=1\n",
    "        #if count >10:\n",
    "        #    break\n",
    "        calc = i[0] + (i[1]*255) + (i[2]*(255**2))\n",
    "        #res.append(calc)\"\"\"\n",
    "        "
   ]
  },
  {
   "cell_type": "code",
   "execution_count": null,
   "metadata": {},
   "outputs": [],
   "source": []
  },
  {
   "cell_type": "code",
   "execution_count": null,
   "metadata": {},
   "outputs": [],
   "source": []
  },
  {
   "cell_type": "code",
   "execution_count": null,
   "metadata": {},
   "outputs": [],
   "source": []
  },
  {
   "cell_type": "markdown",
   "metadata": {},
   "source": [
    "\n",
    "\n",
    "\n",
    "\n",
    "# Cut this out"
   ]
  },
  {
   "cell_type": "code",
   "execution_count": null,
   "metadata": {},
   "outputs": [],
   "source": [
    "tuple(abs(aItem+bItem) for aItem, bItem in zip(ranges[i][0], (1,1,1))) #abs(my_dict[curr_col] - my_dict[prev_col])"
   ]
  },
  {
   "cell_type": "code",
   "execution_count": null,
   "metadata": {},
   "outputs": [],
   "source": []
  },
  {
   "cell_type": "code",
   "execution_count": null,
   "metadata": {},
   "outputs": [],
   "source": []
  },
  {
   "cell_type": "code",
   "execution_count": 86,
   "metadata": {
    "scrolled": true
   },
   "outputs": [
    {
     "data": {
      "text/plain": [
       "array([1, 1, 1, ..., 1, 1, 1], dtype=uint8)"
      ]
     },
     "execution_count": 86,
     "metadata": {},
     "output_type": "execute_result"
    }
   ],
   "source": [
    "flat_array"
   ]
  },
  {
   "cell_type": "code",
   "execution_count": 94,
   "metadata": {
    "scrolled": true
   },
   "outputs": [],
   "source": [
    "test = list(filter(lambda a: a != 65281, res))"
   ]
  },
  {
   "cell_type": "code",
   "execution_count": 95,
   "metadata": {},
   "outputs": [
    {
     "data": {
      "text/plain": [
       "4507594"
      ]
     },
     "execution_count": 95,
     "metadata": {},
     "output_type": "execute_result"
    }
   ],
   "source": [
    "len(test)"
   ]
  },
  {
   "cell_type": "code",
   "execution_count": 81,
   "metadata": {},
   "outputs": [],
   "source": [
    "giv = [1,2,4,1,2,6,3,7,10]"
   ]
  },
  {
   "cell_type": "code",
   "execution_count": 105,
   "metadata": {},
   "outputs": [],
   "source": [
    "test2 = []\n",
    "for i in test:\n",
    "    if i >1000000 and i< 16000000:\n",
    "        test2.append(i)"
   ]
  },
  {
   "cell_type": "code",
   "execution_count": 106,
   "metadata": {},
   "outputs": [
    {
     "data": {
      "text/plain": [
       "863050"
      ]
     },
     "execution_count": 106,
     "metadata": {},
     "output_type": "execute_result"
    }
   ],
   "source": [
    "len(test2)"
   ]
  },
  {
   "cell_type": "code",
   "execution_count": 52,
   "metadata": {
    "scrolled": true
   },
   "outputs": [
    {
     "ename": "NameError",
     "evalue": "name 'test2' is not defined",
     "output_type": "error",
     "traceback": [
      "\u001b[0;31m---------------------------------------------------------------------------\u001b[0m",
      "\u001b[0;31mNameError\u001b[0m                                 Traceback (most recent call last)",
      "Input \u001b[0;32mIn [52]\u001b[0m, in \u001b[0;36m<cell line: 1>\u001b[0;34m()\u001b[0m\n\u001b[0;32m----> 1\u001b[0m plt\u001b[38;5;241m.\u001b[39mhist(\u001b[43mtest2\u001b[49m, bins \u001b[38;5;241m=\u001b[39m \u001b[38;5;241m50\u001b[39m)\n",
      "\u001b[0;31mNameError\u001b[0m: name 'test2' is not defined"
     ]
    }
   ],
   "source": [
    "plt.hist(test2, bins = 50)"
   ]
  },
  {
   "cell_type": "code",
   "execution_count": null,
   "metadata": {},
   "outputs": [],
   "source": [
    "255,0,0"
   ]
  },
  {
   "cell_type": "code",
   "execution_count": 110,
   "metadata": {},
   "outputs": [
    {
     "data": {
      "text/plain": [
       "30.63678558845606"
      ]
     },
     "execution_count": 110,
     "metadata": {},
     "output_type": "execute_result"
    }
   ],
   "source": [
    "2000000/65281"
   ]
  },
  {
   "cell_type": "code",
   "execution_count": 109,
   "metadata": {},
   "outputs": [
    {
     "data": {
      "text/plain": [
       "2000000.0"
      ]
     },
     "execution_count": 109,
     "metadata": {},
     "output_type": "execute_result"
    }
   ],
   "source": [
    "0.2*10000000"
   ]
  },
  {
   "cell_type": "code",
   "execution_count": 112,
   "metadata": {},
   "outputs": [
    {
     "data": {
      "text/plain": [
       "(array([2673989.,  319216.,   80904.,   85281.,   55853.,   30859.,\n",
       "          32278.,   26555.,   28936.,   37742.,   17140.,    7909.,\n",
       "           9775.,   18474.,   21260.,   20110.,   36002.,   38478.,\n",
       "          12682.,    8983.,   18679.,   23313.,   10373.,    3345.,\n",
       "          10249.,   60111.,   52107.,   27283.,   24086.,    9870.,\n",
       "           3241.,    3068.,   14991.,   91783.,  592669.]),\n",
       " array([       0.        ,   475618.71428571,   951237.42857143,\n",
       "         1426856.14285714,  1902474.85714286,  2378093.57142857,\n",
       "         2853712.28571429,  3329331.        ,  3804949.71428571,\n",
       "         4280568.42857143,  4756187.14285714,  5231805.85714286,\n",
       "         5707424.57142857,  6183043.28571429,  6658662.        ,\n",
       "         7134280.71428571,  7609899.42857143,  8085518.14285714,\n",
       "         8561136.85714286,  9036755.57142857,  9512374.28571429,\n",
       "         9987993.        , 10463611.71428571, 10939230.42857143,\n",
       "        11414849.14285714, 11890467.85714286, 12366086.57142857,\n",
       "        12841705.28571429, 13317324.        , 13792942.71428571,\n",
       "        14268561.42857143, 14744180.14285714, 15219798.85714286,\n",
       "        15695417.57142857, 16171036.28571429, 16646655.        ]),\n",
       " <BarContainer object of 35 artists>)"
      ]
     },
     "execution_count": 112,
     "metadata": {},
     "output_type": "execute_result"
    },
    {
     "data": {
      "image/png": "[encoded data removed]",
      "text/plain": [
       "<Figure size 432x288 with 1 Axes>"
      ]
     },
     "metadata": {
      "needs_background": "light"
     },
     "output_type": "display_data"
    }
   ],
   "source": [
    "plt.hist(test, bins = 35)"
   ]
  },
  {
   "cell_type": "code",
   "execution_count": 98,
   "metadata": {},
   "outputs": [
    {
     "data": {
      "text/plain": [
       "16000000.0"
      ]
     },
     "execution_count": 98,
     "metadata": {},
     "output_type": "execute_result"
    }
   ],
   "source": [
    "1.6*10000000"
   ]
  },
  {
   "cell_type": "markdown",
   "metadata": {},
   "source": [
    "# Cut this out"
   ]
  },
  {
   "cell_type": "code",
   "execution_count": 11,
   "metadata": {},
   "outputs": [],
   "source": [
    "ranges ={'Violet': [(150, 100, 100), (180, 255, 255)],\n",
    " 'Indigo': [(135, 100, 100), (150, 255, 255)],\n",
    " 'Blue': [(90, 100, 100), (135, 255, 255)],\n",
    " 'Green': [(35, 100, 100), (90, 255, 255)],\n",
    " 'Yellow': [(25, 100, 100), (35, 255, 255)],\n",
    " 'Orange': [(10, 100, 100), (25, 255, 255)],\n",
    " 'Red': [(0,100,100),(10,100,100)]}"
   ]
  },
  {
   "cell_type": "code",
   "execution_count": 20,
   "metadata": {},
   "outputs": [],
   "source": [
    "remove_colour(\"./colours/withoutred.png\", red_min, red_max)"
   ]
  },
  {
   "cell_type": "code",
   "execution_count": 19,
   "metadata": {},
   "outputs": [],
   "source": [
    "red_min = np.array(ranges['Violet'][0], np.uint8) #grey\n",
    "red_max = np.array(ranges['Violet'][1], np.uint8)"
   ]
  },
  {
   "cell_type": "code",
   "execution_count": 9,
   "metadata": {},
   "outputs": [
    {
     "data": {
      "text/plain": [
       "True"
      ]
     },
     "execution_count": 9,
     "metadata": {},
     "output_type": "execute_result"
    }
   ],
   "source": [
    "import cv2\n",
    "import numpy as np\n",
    " \n",
    "image = cv2.imread('turnerimg.png')\n",
    "#cv2.imshow('result', result)cv2.imshow(\"Original\", image)\n",
    " \n",
    "result = image.copy()\n",
    " \n",
    "image = cv2.cvtColor(image, cv2.COLOR_BGR2HSV)\n",
    " \n",
    "# lower boundary RED color range values; Hue (0 - 10)\n",
    "lower1 = np.array([0, 100, 20])\n",
    "upper1 = np.array([10, 255, 255])\n",
    " \n",
    "# upper boundary RED color range values; Hue (160 - 180)\n",
    "lower2 = np.array([160,100,20])\n",
    "upper2 = np.array([179,255,255])\n",
    " \n",
    "lower_mask = cv2.inRange(image, lower1, upper1)\n",
    "upper_mask = cv2.inRange(image, lower2, upper2)\n",
    " \n",
    "full_mask = lower_mask + upper_mask;\n",
    " \n",
    "result = cv2.bitwise_and(result, result, mask=full_mask)\n",
    " \n",
    "cv2.imwrite('result.png', result)\n"
   ]
  },
  {
   "cell_type": "code",
   "execution_count": 24,
   "metadata": {},
   "outputs": [],
   "source": [
    "for i in ranges.keys():\n",
    "    mini = np.array((ranges[i])[0], np.uint8)\n",
    "    maxi = np.array((ranges[i])[1], np.uint8)\n",
    "    remove_colour(\"./colours/without{}.png\".format(i), mini, maxi)"
   ]
  },
  {
   "cell_type": "code",
   "execution_count": null,
   "metadata": {},
   "outputs": [],
   "source": []
  },
  {
   "cell_type": "code",
   "execution_count": null,
   "metadata": {},
   "outputs": [],
   "source": []
  },
  {
   "cell_type": "code",
   "execution_count": null,
   "metadata": {},
   "outputs": [],
   "source": []
  }
 ],
 "metadata": {
  "kernelspec": {
   "display_name": "Python 3 (ipykernel)",
   "language": "python",
   "name": "python3"
  },
  "language_info": {
   "codemirror_mode": {
    "name": "ipython",
    "version": 3
   },
   "file_extension": ".py",
   "mimetype": "text/x-python",
   "name": "python",
   "nbconvert_exporter": "python",
   "pygments_lexer": "ipython3",
   "version": "3.9.12"
  }
 },
 "nbformat": 4,
 "nbformat_minor": 4
}
