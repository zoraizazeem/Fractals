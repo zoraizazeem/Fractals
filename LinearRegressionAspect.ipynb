{
 "cells": [
  {
   "cell_type": "markdown",
   "metadata": {},
   "source": [
    "# File Layout\n",
    "\n",
    "###"
   ]
  },
  {
   "cell_type": "code",
   "execution_count": null,
   "metadata": {},
   "outputs": [],
   "source": []
  },
  {
   "cell_type": "code",
   "execution_count": 155,
   "metadata": {},
   "outputs": [],
   "source": [
    "import scipy.misc\n",
    "import numpy as np\n",
    "from sklearn.linear_model import LinearRegression\n",
    "import cv2\n",
    "import matplotlib.pyplot as plt\n",
    "from PIL import Image\n",
    "import csv\n",
    "from tqdm import tqdm\n",
    "import matplotlib.pyplot as plt\n",
    "from matplotlib.pyplot import figure\n",
    "from matplotlib import pyplot, transforms"
   ]
  },
  {
   "cell_type": "code",
   "execution_count": 156,
   "metadata": {
    "scrolled": true
   },
   "outputs": [],
   "source": [
    "def linreg(x1,y1):\n",
    "    model = LinearRegression()\n",
    "    x1 = x1.reshape(-1, 1)\n",
    "    y1 = y1.reshape(-1, 1)\n",
    "    model.fit(x1, y1)\n",
    "    print(f\"intercept: {model.intercept_}\")\n",
    "    print(f\"slope: {model.coef_}\")\n",
    "    plt.scatter(x1, y1,color='g')\n",
    "    plt.plot(x1, model.predict(x1),color='k')"
   ]
  },
  {
   "cell_type": "code",
   "execution_count": 255,
   "metadata": {
    "scrolled": true
   },
   "outputs": [],
   "source": [
    "\n",
    "def fractal_dimension(Z, threshold=0.9):\n",
    "\n",
    "    # Only for 2d image\n",
    "    #print((Z.shape))\n",
    "    assert(len(Z.shape) == 2)\n",
    "\n",
    "    \n",
    "    def boxcount(Z, k):\n",
    "        S = np.add.reduceat(\n",
    "            np.add.reduceat(Z, np.arange(0, Z.shape[0], k), axis=0),\n",
    "                               np.arange(0, Z.shape[1], k), axis=1)\n",
    "\n",
    "        # We count non-empty (0) and non-full boxes (k*k)\n",
    "        return len(np.where((S > 0) & (S < k*k))[0])\n",
    "\n",
    "\n",
    "    # Transform Z into a binary array\n",
    "    Z = (Z <= threshold)\n",
    "\n",
    "    # Minimal dimension of image\n",
    "    p = min(Z.shape)\n",
    "    \n",
    "    \n",
    "    # Greatest power of 2 less than or equal to p\n",
    "    n = 2**np.floor(np.log(p)/np.log(2))\n",
    "\n",
    "    # Extract the exponent\n",
    "    n = int(np.log(n)/np.log(2))\n",
    "    \n",
    "    # Build successive box sizes (from 2**n down to 2**1)\n",
    "    sizes = 2**np.arange(n, 1, -1)\n",
    "    #print(sizes)\n",
    "    # Actual box counting with decreasing size\n",
    "    counts = []\n",
    "    for size in sizes:\n",
    "        counts.append(boxcount(Z, size))\n",
    "\n",
    "    # Fit the successive log(sizes) with log (counts)\n",
    "    \n",
    "    coeffs = np.polyfit(np.log(sizes), np.log(counts), 1)\n",
    "    x = np.log(sizes)\n",
    "    y = np.log(counts)\n",
    "    \n",
    "    return -coeffs[0], x, y\n",
    "\n",
    "\n",
    "#coeff, x, y  = fractal_dimension(I)\n",
    "#print(\"Minkowski–Bouligand dimension (computed): \", coeff)\n",
    "#print(\"Haussdorf dimension (theoretical):        \", (np.log(3)/np.log(2)))"
   ]
  },
  {
   "cell_type": "code",
   "execution_count": 271,
   "metadata": {},
   "outputs": [],
   "source": [
    "def start(filename, pixel_threshold = 0.9):\n",
    "    I = cv2.imread(filename, cv2.IMREAD_GRAYSCALE)\n",
    "    #\n",
    "    I = cv2.bitwise_not(I)\n",
    "    #\n",
    "    I = I/256\n",
    "    \n",
    "    coeff, x, y  = fractal_dimension(I, pixel_threshold)\n",
    "    #print(\"Minkowski–Bouligand dimension (computed): \", coeff)\n",
    "    return coeff, x, y"
   ]
  },
  {
   "cell_type": "code",
   "execution_count": 257,
   "metadata": {
    "scrolled": true
   },
   "outputs": [],
   "source": [
    "def save_csv(xs, ys, filename):\n",
    "    data_dict = []\n",
    "    for i in  range(len(xs)):\n",
    "        xval = str(xs[i])\n",
    "        yval = str(ys[i])\n",
    "        temp = dict(xs = xval, ys = yval)\n",
    "        data_dict.append(temp)\n",
    "\n",
    "    field_names = ['xs', 'ys']\n",
    "    with open(filename, 'w') as csvfile:\n",
    "        writer = csv.DictWriter(csvfile, fieldnames = field_names)\n",
    "        writer.writeheader()\n",
    "        writer.writerows(data_dict)"
   ]
  },
  {
   "cell_type": "code",
   "execution_count": 258,
   "metadata": {},
   "outputs": [
    {
     "name": "stdout",
     "output_type": "stream",
     "text": [
      "Minkowski–Bouligand dimension (computed):  1.3110543559930796\n"
     ]
    }
   ],
   "source": [
    "coeff, x, y = start(\"./SelfSimilarFractals/koch.png\")\n",
    "save_csv(x, y, \"./csvs/koch.csv\")"
   ]
  },
  {
   "cell_type": "code",
   "execution_count": 192,
   "metadata": {},
   "outputs": [
    {
     "name": "stdout",
     "output_type": "stream",
     "text": [
      "Minkowski–Bouligand dimension (computed):  1.5085197693702377\n"
     ]
    }
   ],
   "source": [
    "coeff, x, y = start(\"./SelfSimilarFractals/SierpinskiTriangleHD.png\")\n",
    "save_csv(x, y, \"./csvs/sierpinski.csv\")"
   ]
  },
  {
   "cell_type": "code",
   "execution_count": 193,
   "metadata": {},
   "outputs": [
    {
     "name": "stdout",
     "output_type": "stream",
     "text": [
      "Minkowski–Bouligand dimension (computed):  1.166712683774207\n"
     ]
    }
   ],
   "source": [
    "coeff, x, y = start(\"./SelfSimilarFractals/kochCurve.png\")\n",
    "save_csv(x, y, \"./csvs/kochCurve.csv\")"
   ]
  },
  {
   "cell_type": "code",
   "execution_count": null,
   "metadata": {},
   "outputs": [],
   "source": []
  },
  {
   "cell_type": "markdown",
   "metadata": {},
   "source": [
    "### Thresholds"
   ]
  },
  {
   "cell_type": "code",
   "execution_count": 239,
   "metadata": {},
   "outputs": [],
   "source": [
    "#temp = [round(0.1*i, 2) for i in range(10)]\n",
    "temp = np.arange(0,0.9, 0.02).tolist()\n",
    "temp = [round(i,2) for i in temp ]\n",
    "temp=temp[2:]\n",
    "#temp"
   ]
  },
  {
   "cell_type": "code",
   "execution_count": 272,
   "metadata": {
    "scrolled": false
   },
   "outputs": [
    {
     "name": "stderr",
     "output_type": "stream",
     "text": [
      "/var/folders/jd/r79cklw57_bgyl4gtpf5f85c0000gn/T/ipykernel_3184/3992163741.py:40: RuntimeWarning: divide by zero encountered in log\n",
      "  coeffs = np.polyfit(np.log(sizes), np.log(counts), 1)\n",
      "/var/folders/jd/r79cklw57_bgyl4gtpf5f85c0000gn/T/ipykernel_3184/3992163741.py:42: RuntimeWarning: divide by zero encountered in log\n",
      "  y = np.log(counts)\n"
     ]
    }
   ],
   "source": [
    "koch_thresh = {}\n",
    "for i in temp:\n",
    "    coeff, x, y  = start(\"./SelfSimilarFractals/koch.png\", i)\n",
    "    koch_thresh[i] = coeff"
   ]
  },
  {
   "cell_type": "code",
   "execution_count": 273,
   "metadata": {},
   "outputs": [],
   "source": [
    "sierp_thresh = {}\n",
    "for i in temp:\n",
    "    coeff, x, y  = start(\"./SelfSimilarFractals/SierpinskiTriangleHD.png\", i)\n",
    "    sierp_thresh[i] = coeff"
   ]
  },
  {
   "cell_type": "code",
   "execution_count": 274,
   "metadata": {},
   "outputs": [],
   "source": [
    "curve_thresh = {}\n",
    "for i in temp:\n",
    "    coeff, x, y  = start(\"./SelfSimilarFractals/kochCurve.png\", i)\n",
    "    curve_thresh[i] = coeff"
   ]
  },
  {
   "cell_type": "code",
   "execution_count": 275,
   "metadata": {
    "scrolled": true
   },
   "outputs": [
    {
     "name": "stderr",
     "output_type": "stream",
     "text": [
      "/var/folders/jd/r79cklw57_bgyl4gtpf5f85c0000gn/T/ipykernel_3184/3992163741.py:40: RuntimeWarning: divide by zero encountered in log\n",
      "  coeffs = np.polyfit(np.log(sizes), np.log(counts), 1)\n",
      "/var/folders/jd/r79cklw57_bgyl4gtpf5f85c0000gn/T/ipykernel_3184/3992163741.py:42: RuntimeWarning: divide by zero encountered in log\n",
      "  y = np.log(counts)\n"
     ]
    }
   ],
   "source": [
    "old_sierp_thresh = {}\n",
    "for i in temp:\n",
    "    coeff, x, y  = start(\"./SelfSimilarFractals/sierpinski.png\", i)\n",
    "    old_sierp_thresh[i] = coeff"
   ]
  },
  {
   "cell_type": "code",
   "execution_count": 283,
   "metadata": {},
   "outputs": [],
   "source": [
    "import math\n",
    "def clean(diction):\n",
    "    for key in list(diction.keys()):\n",
    "        if math.isnan(diction[key]):\n",
    "            del diction[key]"
   ]
  },
  {
   "cell_type": "code",
   "execution_count": 287,
   "metadata": {},
   "outputs": [],
   "source": [
    "clean(old_sierp_thresh)\n",
    "clean(sierp_thresh)\n",
    "clean(curve_thresh)\n",
    "clean(koch_thresh)"
   ]
  },
  {
   "cell_type": "code",
   "execution_count": 288,
   "metadata": {},
   "outputs": [
    {
     "data": {
      "text/plain": [
       "[<matplotlib.lines.Line2D at 0x7fb618f00370>]"
      ]
     },
     "execution_count": 288,
     "metadata": {},
     "output_type": "execute_result"
    },
    {
     "data": {
      "image/png": "[encoded data removed]",
      "text/plain": [
       "<Figure size 432x288 with 1 Axes>"
      ]
     },
     "metadata": {
      "needs_background": "light"
     },
     "output_type": "display_data"
    }
   ],
   "source": [
    "plt.plot(koch_thresh.keys(), koch_thresh.values())"
   ]
  },
  {
   "cell_type": "code",
   "execution_count": 289,
   "metadata": {},
   "outputs": [
    {
     "data": {
      "text/plain": [
       "[<matplotlib.lines.Line2D at 0x7fb618c80cd0>]"
      ]
     },
     "execution_count": 289,
     "metadata": {},
     "output_type": "execute_result"
    },
    {
     "data": {
      "image/png": "[encoded data removed]",
      "text/plain": [
       "<Figure size 432x288 with 1 Axes>"
      ]
     },
     "metadata": {
      "needs_background": "light"
     },
     "output_type": "display_data"
    }
   ],
   "source": [
    "plt.plot(sierp_thresh.keys(), sierp_thresh.values())"
   ]
  },
  {
   "cell_type": "code",
   "execution_count": 290,
   "metadata": {},
   "outputs": [
    {
     "data": {
      "text/plain": [
       "[<matplotlib.lines.Line2D at 0x7fb6190676a0>]"
      ]
     },
     "execution_count": 290,
     "metadata": {},
     "output_type": "execute_result"
    },
    {
     "data": {
      "image/png": "[encoded data removed]",
      "text/plain": [
       "<Figure size 432x288 with 1 Axes>"
      ]
     },
     "metadata": {
      "needs_background": "light"
     },
     "output_type": "display_data"
    }
   ],
   "source": [
    "plt.plot(curve_thresh.keys(), curve_thresh.values())"
   ]
  },
  {
   "cell_type": "code",
   "execution_count": 291,
   "metadata": {
    "scrolled": true
   },
   "outputs": [
    {
     "data": {
      "text/plain": [
       "[<matplotlib.lines.Line2D at 0x7fb6082b00d0>]"
      ]
     },
     "execution_count": 291,
     "metadata": {},
     "output_type": "execute_result"
    },
    {
     "data": {
      "image/png": "[encoded data removed]",
      "text/plain": [
       "<Figure size 432x288 with 1 Axes>"
      ]
     },
     "metadata": {
      "needs_background": "light"
     },
     "output_type": "display_data"
    }
   ],
   "source": [
    "plt.plot(old_sierp_thresh.keys(), old_sierp_thresh.values())"
   ]
  },
  {
   "cell_type": "code",
   "execution_count": null,
   "metadata": {},
   "outputs": [],
   "source": []
  },
  {
   "cell_type": "code",
   "execution_count": null,
   "metadata": {},
   "outputs": [],
   "source": []
  },
  {
   "cell_type": "code",
   "execution_count": null,
   "metadata": {},
   "outputs": [],
   "source": []
  },
  {
   "cell_type": "code",
   "execution_count": null,
   "metadata": {},
   "outputs": [],
   "source": []
  },
  {
   "cell_type": "code",
   "execution_count": 30,
   "metadata": {},
   "outputs": [
    {
     "name": "stdout",
     "output_type": "stream",
     "text": [
      "intercept: [11.20459123]\n",
      "slope: [[-1.50851977]]\n"
     ]
    },
    {
     "data": {
      "image/png": "[encoded data removed]",
      "text/plain": [
       "<Figure size 432x288 with 1 Axes>"
      ]
     },
     "metadata": {
      "needs_background": "light"
     },
     "output_type": "display_data"
    }
   ],
   "source": [
    "linreg(x, y)"
   ]
  },
  {
   "cell_type": "code",
   "execution_count": 31,
   "metadata": {
    "scrolled": true
   },
   "outputs": [
    {
     "name": "stdout",
     "output_type": "stream",
     "text": [
      "Minkowski–Bouligand dimension (computed):  1.1896829330855272\n"
     ]
    }
   ],
   "source": [
    "coeff, x, y = start(\"./SelfSimilarFractals/greatbritain.png\")\n",
    "save_csv(x, y, \"./csvs/greatbritain.csv\")"
   ]
  },
  {
   "cell_type": "code",
   "execution_count": 11,
   "metadata": {},
   "outputs": [
    {
     "name": "stdout",
     "output_type": "stream",
     "text": [
      "intercept: [8.35180173]\n",
      "slope: [[-1.25006712]]\n"
     ]
    },
    {
     "data": {
      "image/png": "[encoded data removed]",
      "text/plain": [
       "<Figure size 432x288 with 1 Axes>"
      ]
     },
     "metadata": {
      "needs_background": "light"
     },
     "output_type": "display_data"
    }
   ],
   "source": [
    "linreg(x,y)"
   ]
  },
  {
   "cell_type": "markdown",
   "metadata": {},
   "source": [
    "image interpolation?\n",
    "threshold\n"
   ]
  },
  {
   "cell_type": "code",
   "execution_count": null,
   "metadata": {},
   "outputs": [],
   "source": []
  },
  {
   "cell_type": "code",
   "execution_count": null,
   "metadata": {},
   "outputs": [],
   "source": []
  },
  {
   "cell_type": "code",
   "execution_count": null,
   "metadata": {},
   "outputs": [],
   "source": []
  },
  {
   "cell_type": "code",
   "execution_count": null,
   "metadata": {},
   "outputs": [],
   "source": []
  },
  {
   "cell_type": "code",
   "execution_count": null,
   "metadata": {},
   "outputs": [],
   "source": []
  }
 ],
 "metadata": {
  "kernelspec": {
   "display_name": "Python 3 (ipykernel)",
   "language": "python",
   "name": "python3"
  },
  "language_info": {
   "codemirror_mode": {
    "name": "ipython",
    "version": 3
   },
   "file_extension": ".py",
   "mimetype": "text/x-python",
   "name": "python",
   "nbconvert_exporter": "python",
   "pygments_lexer": "ipython3",
   "version": "3.9.12"
  }
 },
 "nbformat": 4,
 "nbformat_minor": 4
}
