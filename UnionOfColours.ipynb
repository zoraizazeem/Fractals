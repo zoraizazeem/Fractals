{
 "cells": [
  {
   "cell_type": "code",
   "execution_count": 2,
   "metadata": {},
   "outputs": [],
   "source": [
    "import scipy.misc\n",
    "import numpy as np\n",
    "from sklearn.linear_model import LinearRegression\n",
    "import cv2\n",
    "import matplotlib.pyplot as plt\n",
    "from PIL import Image\n",
    "import csv\n",
    "from tqdm import tqdm\n",
    "import matplotlib.pyplot as plt\n",
    "from matplotlib.pyplot import figure\n",
    "from matplotlib import pyplot, transforms\n",
    "import math"
   ]
  },
  {
   "cell_type": "markdown",
   "metadata": {},
   "source": [
    "image interpolation?\n",
    "threshold\n"
   ]
  },
  {
   "cell_type": "code",
   "execution_count": null,
   "metadata": {},
   "outputs": [],
   "source": [
    "def linreg(x1,y1):\n",
    "    model = LinearRegression()\n",
    "    x1 = x1.reshape(-1, 1)\n",
    "    y1 = y1.reshape(-1, 1)\n",
    "    model.fit(x1, y1)\n",
    "    print(f\"intercept: {model.intercept_}\")\n",
    "    print(f\"slope: {model.coef_}\")\n",
    "    plt.scatter(x1, y1,color='g')\n",
    "    plt.plot(x1, model.predict(x1),color='k')"
   ]
  },
  {
   "cell_type": "code",
   "execution_count": null,
   "metadata": {},
   "outputs": [],
   "source": [
    "\n",
    "def fractal_dimension(Z, threshold=0.9):\n",
    "\n",
    "    # Only for 2d image\n",
    "    #print((Z.shape))\n",
    "    assert(len(Z.shape) == 2)\n",
    "\n",
    "    \n",
    "    def boxcount(Z, k):\n",
    "        S = np.add.reduceat(\n",
    "            np.add.reduceat(Z, np.arange(0, Z.shape[0], k), axis=0),\n",
    "                               np.arange(0, Z.shape[1], k), axis=1)\n",
    "\n",
    "        # We count non-empty (0) and non-full boxes (k*k)\n",
    "        return len(np.where((S > 0) & (S < k*k))[0])\n",
    "\n",
    "\n",
    "    # Transform Z into a binary array\n",
    "    Z = (Z <= threshold)\n",
    "\n",
    "    # Minimal dimension of image\n",
    "    p = min(Z.shape)\n",
    "    \n",
    "    #print(Z.shape)\n",
    "    # Greatest power of 2 less than or equal to p\n",
    "    n = 2**np.floor(np.log(p)/np.log(2))\n",
    "    #print(n)\n",
    "    \n",
    "    # Extract the exponent\n",
    "    n = int(np.log(n)/np.log(2))\n",
    "    #print(n)\n",
    "    # Build successive box sizes (from 2**n down to 2**1)\n",
    "    sizes = 2**np.arange(n, 1, -1)\n",
    "    #print(sizes)\n",
    "    #print(sizes)\n",
    "    # Actual box counting with decreasing size\n",
    "    counts = []\n",
    "    for size in sizes:\n",
    "        counts.append(boxcount(Z, size))\n",
    "\n",
    "    # Fit the successive log(sizes) with log (counts)\n",
    "    \n",
    "    coeffs = np.polyfit(np.log(sizes), np.log(counts), 1)\n",
    "    x = np.log(sizes)\n",
    "    y = np.log(counts)\n",
    "    \n",
    "    return -coeffs[0], x, y\n",
    "\n",
    "\n",
    "#coeff, x, y  = fractal_dimension(I)\n",
    "#print(\"Minkowski–Bouligand dimension (computed): \", coeff)\n"
   ]
  },
  {
   "cell_type": "code",
   "execution_count": null,
   "metadata": {},
   "outputs": [],
   "source": [
    "def start(filename, pixel_threshold = 0.9):\n",
    "    I = cv2.imread(filename, cv2.IMREAD_GRAYSCALE)\n",
    "    \n",
    "    # testing inverse of inages\n",
    "    #I = cv2.bitwise_not(I)\n",
    "    #\n",
    "    I = I/256\n",
    "    \n",
    "    \n",
    "    coeff, x, y  = fractal_dimension(I, pixel_threshold)\n",
    "    #print(\"Minkowski–Bouligand dimension (computed): \", coeff)\n",
    "    return coeff, x, y"
   ]
  },
  {
   "cell_type": "code",
   "execution_count": null,
   "metadata": {},
   "outputs": [],
   "source": [
    "def save_csv(xs, ys, filename):\n",
    "    data_dict = []\n",
    "    for i in  range(len(xs)):\n",
    "        xval = str(xs[i])\n",
    "        yval = str(ys[i])\n",
    "        temp = dict(xs = xval, ys = yval)\n",
    "        data_dict.append(temp)\n",
    "\n",
    "    field_names = ['xs', 'ys']\n",
    "    with open(filename, 'w') as csvfile:\n",
    "        writer = csv.DictWriter(csvfile, fieldnames = field_names)\n",
    "        writer.writeheader()\n",
    "        writer.writerows(data_dict)"
   ]
  },
  {
   "cell_type": "code",
   "execution_count": null,
   "metadata": {},
   "outputs": [],
   "source": []
  },
  {
   "cell_type": "code",
   "execution_count": null,
   "metadata": {},
   "outputs": [],
   "source": []
  },
  {
   "cell_type": "code",
   "execution_count": null,
   "metadata": {},
   "outputs": [],
   "source": []
  },
  {
   "cell_type": "code",
   "execution_count": null,
   "metadata": {},
   "outputs": [],
   "source": []
  },
  {
   "cell_type": "code",
   "execution_count": 131,
   "metadata": {},
   "outputs": [],
   "source": [
    "ranges ={'Violet': [(150, 100, 100), (180, 255, 255)],\n",
    " 'Indigo': [(135, 100, 100), (150, 255, 255)],\n",
    " 'Blue': [(90, 100, 100), (135, 255, 255)],\n",
    " 'Green': [(35, 100, 100), (90, 255, 255)],\n",
    " 'Yellow': [(25, 100, 100), (35, 255, 255)],\n",
    " 'Orange': [(10, 100, 100), (25, 255, 255)],\n",
    " 'Red': [(0,100,100),(10,100,100)]}"
   ]
  },
  {
   "cell_type": "code",
   "execution_count": 132,
   "metadata": {},
   "outputs": [],
   "source": [
    "def remove_colour(img, fname, col_min, col_max):\n",
    "    upstate = cv2.imread(img)\n",
    "    upstate_hsv = cv2.cvtColor(upstate, cv2.COLOR_BGR2HSV)\n",
    "\n",
    "    mask_inverse = cv2.inRange(upstate_hsv, col_min, col_max)\n",
    "    mask = mask_inverse #cv2.bitwise_not(mask_inverse)\n",
    "    mask_rgb = cv2.cvtColor(mask, cv2.COLOR_GRAY2RGB)    \n",
    "    masked_upstate = cv2.bitwise_and(upstate, mask_rgb)\n",
    "    \n",
    "    gray = cv2.cvtColor(masked_upstate, cv2.COLOR_BGR2GRAY)\n",
    "\n",
    "    ret, thresh = cv2.threshold(gray, 240, 255, cv2.THRESH_BINARY)\n",
    "\n",
    "    masked_upstate[thresh == 255] = 0\n",
    "    \n",
    "    cv2.imwrite(fname, masked_upstate)\n",
    "    \n",
    "    \n",
    "    "
   ]
  },
  {
   "cell_type": "code",
   "execution_count": 133,
   "metadata": {},
   "outputs": [],
   "source": [
    "\n",
    "def remove_red(img, fname):\n",
    "    image = cv2.imread(img)\n",
    "    result = image.copy()\n",
    "    result = cv2.cvtColor(result, cv2.COLOR_BGR2HSV)\n",
    "    lower1 = np.array([0, 100, 20])\n",
    "    upper1 = np.array([10, 255, 255])\n",
    "    lower2 = np.array([160,100,20])\n",
    "    upper2 = np.array([179,255,255])\n",
    "\n",
    "    lower_mask = cv2.inRange(result, lower1, upper1)\n",
    "    upper_mask = cv2.inRange(result, lower2, upper2)\n",
    "\n",
    "    full_mask = lower_mask + upper_mask;\n",
    "\n",
    "    result = cv2.bitwise_and(result, result, mask=full_mask)\n",
    "    upstate_hsv = cv2.cvtColor(result, cv2.COLOR_BGR2HSV)\n",
    "    mask_rgb = upstate_hsv #cv2.bitwise_not(upstate_hsv)\n",
    "    masked_upstate = cv2.bitwise_and(image, mask_rgb)\n",
    "    \n",
    "    gray = cv2.cvtColor(masked_upstate, cv2.COLOR_BGR2GRAY)\n",
    "\n",
    "    ret, thresh = cv2.threshold(gray, 240, 255, cv2.THRESH_BINARY)\n",
    "\n",
    "    masked_upstate[thresh == 255] = 0\n",
    "    \n",
    "    \n",
    "    cv2.imwrite(fname, masked_upstate)\n"
   ]
  },
  {
   "cell_type": "code",
   "execution_count": 134,
   "metadata": {},
   "outputs": [],
   "source": [
    "def main_run(main_img):\n",
    "    for i in ranges.keys():\n",
    "        if i == \"Red\":\n",
    "            remove_red('./GivenClusters/{}.png'.format(main_img), \"./colours/{}/RedPrev.png\".format(main_img))\n",
    "        else:\n",
    "            mini = np.array((ranges[i])[0], np.uint8)\n",
    "            maxi = np.array((ranges[i])[1], np.uint8)\n",
    "            remove_colour('./GivenClusters/{}.png'.format(main_img), \"./colours/{}/{}.png\".format(main_img, i), mini, maxi)"
   ]
  },
  {
   "cell_type": "code",
   "execution_count": 11,
   "metadata": {
    "scrolled": true
   },
   "outputs": [],
   "source": [
    "main_run(\"turnerimg\")"
   ]
  },
  {
   "cell_type": "code",
   "execution_count": 135,
   "metadata": {
    "scrolled": true
   },
   "outputs": [],
   "source": [
    "main_run(\"ALE_a0_eta0_sigmad_n8000\")"
   ]
  },
  {
   "cell_type": "code",
   "execution_count": 40,
   "metadata": {
    "scrolled": true
   },
   "outputs": [
    {
     "data": {
      "text/plain": [
       "True"
      ]
     },
     "execution_count": 40,
     "metadata": {},
     "output_type": "execute_result"
    }
   ],
   "source": [
    "\n",
    "upstate1 = cv2.imread(\"./colours/turnerimg/RedEdited.png\")\n",
    "upstate1 = cv2.cvtColor(upstate1, cv2.COLOR_BGR2HSV)\n",
    "upstate2 = cv2.imread(\"./colours/turnerimg/Orange32.png\")\n",
    "upstate2 = cv2.cvtColor(upstate2, cv2.COLOR_BGR2HSV)\n",
    "masked_upstate = cv2.bitwise_and(upstate1, upstate2)\n",
    "import cv2\n",
    "import numpy as np\n",
    "\n",
    "vis = np.concatenate((upstate1, upstate2), axis=0)\n",
    "cv2.imwrite('out.png', vis)"
   ]
  },
  {
   "cell_type": "code",
   "execution_count": 62,
   "metadata": {},
   "outputs": [],
   "source": [
    "def image_res(file_path , new_dims):\n",
    "    ROOT = \"./colours/\"\n",
    "    old_path = ROOT + file_path\n",
    "    #new_path = ROOT + file_path[:-4]+ \"adjusted\"+ file_path[-4:]\n",
    "    \n",
    "    #dims = (cv2.imread(old_path, cv2.IMREAD_GRAYSCALE)).shape\n",
    "    #dims = I.shape\n",
    "    #print(dims)\n",
    "    #new_dims = int(dims[0]*resolution), int(dims[1]*resolution)\n",
    "    #new_dims = int(max(dims)*resolution) , int(max(dims)*resolution)\n",
    "    #print(new_dims)\n",
    "    \n",
    "    im = Image.open(old_path)\n",
    "    im_resized = im.resize(new_dims, Image.ANTIALIAS)\n",
    "    return im_resized"
   ]
  },
  {
   "cell_type": "code",
   "execution_count": 121,
   "metadata": {
    "scrolled": true
   },
   "outputs": [],
   "source": [
    "def combine(col_list, fname):\n",
    "    to_reduce = []\n",
    "   \n",
    "    red = cv2.imread(\"./colours/\" + col_list[0].split('/')[0] + \"/Red.png\" , cv2.IMREAD_GRAYSCALE)\n",
    "    red = red.shape\n",
    "    print(red)\n",
    "    #cv2.imwrite(red, \"test.png\")\n",
    "    for col in col_list:\n",
    "        curr_im = cv2.imread(\"./colours/\"+col)#, cv2.IMREAD_GRAYSCALE)\n",
    "        \n",
    "        curr_im = cv2.resize(curr_im, red, Image.ANTIALIAS)\n",
    "        to_reduce.append(curr_im)\n",
    "    zones = np.maximum.reduce(to_reduce)\n",
    "    alpha = np.any(zones>0, axis=2)\n",
    "    alpha = Image.fromarray(alpha)\n",
    "    alpha.save(\"./colours/\" + col_list[0].split('/')[0]+fname)\n",
    "#plt.imshow(alpha)"
   ]
  },
  {
   "cell_type": "code",
   "execution_count": 127,
   "metadata": {
    "scrolled": false
   },
   "outputs": [
    {
     "name": "stdout",
     "output_type": "stream",
     "text": [
      "(1920, 1920)\n",
      "(1920, 1920)\n"
     ]
    },
    {
     "name": "stderr",
     "output_type": "stream",
     "text": [
      "/var/folders/jd/r79cklw57_bgyl4gtpf5f85c0000gn/T/ipykernel_26193/3179867084.py:11: DeprecationWarning: ANTIALIAS is deprecated and will be removed in Pillow 10 (2023-07-01). Use Resampling.LANCZOS instead.\n",
      "  curr_im = cv2.resize(curr_im, red, Image.ANTIALIAS)\n"
     ]
    },
    {
     "name": "stdout",
     "output_type": "stream",
     "text": [
      "(1920, 1920)\n",
      "(1920, 1920)\n",
      "(1920, 1920)\n",
      "(1920, 1920)\n",
      "(1920, 1920)\n",
      "(1920, 1920)\n",
      "(1920, 1920)\n"
     ]
    }
   ],
   "source": [
    "col_lst = [\"turnerimg/Red.png\",\"turnerimg/Orange.png\", \"turnerimg/Yellow.png\",\"turnerimg/Green.png\", \"turnerimg/Blue.png\", \"turnerimg/Indigo.png\", \"turnerimg/Violet.png\",\"turnerimg/RedPrev.png\" ]\n",
    "\n",
    "for i in range(len(col_lst)):\n",
    "\n",
    "    count = i +1\n",
    "    if count >= 8:\n",
    "        combine(col_lst[1:], \"/Gen8.png\")\n",
    "    combine(col_lst[:count], \"/Gen{}.png\".format(count))\n",
    "\n"
   ]
  },
  {
   "cell_type": "code",
   "execution_count": 136,
   "metadata": {},
   "outputs": [
    {
     "name": "stdout",
     "output_type": "stream",
     "text": [
      "(600, 600)\n",
      "(600, 600)\n",
      "(600, 600)\n",
      "(600, 600)\n",
      "(600, 600)\n",
      "(600, 600)\n",
      "(600, 600)\n",
      "(600, 600)\n"
     ]
    },
    {
     "name": "stderr",
     "output_type": "stream",
     "text": [
      "/var/folders/jd/r79cklw57_bgyl4gtpf5f85c0000gn/T/ipykernel_26193/3179867084.py:11: DeprecationWarning: ANTIALIAS is deprecated and will be removed in Pillow 10 (2023-07-01). Use Resampling.LANCZOS instead.\n",
      "  curr_im = cv2.resize(curr_im, red, Image.ANTIALIAS)\n"
     ]
    },
    {
     "name": "stdout",
     "output_type": "stream",
     "text": [
      "(600, 600)\n"
     ]
    }
   ],
   "source": [
    "col_lst = [\"ALE_a0_eta0_sigmad_n8000/Red.png\",\"ALE_a0_eta0_sigmad_n8000/Orange.png\", \"ALE_a0_eta0_sigmad_n8000/Yellow.png\",\"ALE_a0_eta0_sigmad_n8000/Green.png\", \"ALE_a0_eta0_sigmad_n8000/Blue.png\", \"ALE_a0_eta0_sigmad_n8000/Indigo.png\", \"ALE_a0_eta0_sigmad_n8000/Violet.png\",\"ALE_a0_eta0_sigmad_n8000/RedPrev.png\" ]\n",
    "\n",
    "for i in range(len(col_lst)):\n",
    "\n",
    "    count = i +1\n",
    "    if count >= 8:\n",
    "        combine(col_lst[1:], \"/Gen8.png\")\n",
    "    combine(col_lst[:count], \"/Gen{}.png\".format(count))\n"
   ]
  },
  {
   "cell_type": "code",
   "execution_count": 115,
   "metadata": {},
   "outputs": [
    {
     "data": {
      "text/plain": [
       "8"
      ]
     },
     "execution_count": 115,
     "metadata": {},
     "output_type": "execute_result"
    }
   ],
   "source": [
    "len(col_lst)"
   ]
  },
  {
   "cell_type": "code",
   "execution_count": null,
   "metadata": {},
   "outputs": [],
   "source": []
  }
 ],
 "metadata": {
  "kernelspec": {
   "display_name": "Python 3 (ipykernel)",
   "language": "python",
   "name": "python3"
  },
  "language_info": {
   "codemirror_mode": {
    "name": "ipython",
    "version": 3
   },
   "file_extension": ".py",
   "mimetype": "text/x-python",
   "name": "python",
   "nbconvert_exporter": "python",
   "pygments_lexer": "ipython3",
   "version": "3.9.12"
  }
 },
 "nbformat": 4,
 "nbformat_minor": 4
}
